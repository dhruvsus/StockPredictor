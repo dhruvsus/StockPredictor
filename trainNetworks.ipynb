{
 "cells": [
  {
   "cell_type": "code",
   "execution_count": 1,
   "metadata": {
    "colab": {
     "base_uri": "https://localhost:8080/",
     "height": 849
    },
    "colab_type": "code",
    "id": "sLQoy3hKoFfg",
    "outputId": "a7cd89ed-bea6-4609-a4ba-8b7fb74b148e"
   },
   "outputs": [
    {
     "data": {
      "text/plain": [
       "'!pip install yfinance\\n!pip install pandas\\n!pip install numpy\\n!pip install matplotlib\\n!pip install scikit-learn\\n!pip install torch\\n!pip install bs4\\n!pip install requests'"
      ]
     },
     "execution_count": 1,
     "metadata": {},
     "output_type": "execute_result"
    }
   ],
   "source": [
    "#pip installs for google colab\n",
    "\"\"\"!pip install yfinance\n",
    "!pip install pandas\n",
    "!pip install numpy\n",
    "!pip install matplotlib\n",
    "!pip install scikit-learn\n",
    "!pip install torch\n",
    "!pip install bs4\n",
    "!pip install requests\"\"\""
   ]
  },
  {
   "cell_type": "code",
   "execution_count": 2,
   "metadata": {
    "colab": {
     "base_uri": "https://localhost:8080/",
     "height": 567
    },
    "colab_type": "code",
    "id": "4iBAFtOeeeQb",
    "outputId": "564c0cc2-282e-4d69-a4ef-bb044568e55e"
   },
   "outputs": [],
   "source": [
    "#imports\n",
    "import requests\n",
    "import yfinance as yf\n",
    "from bs4 import BeautifulSoup\n",
    "import numpy as np\n",
    "import pandas as pd\n",
    "import matplotlib.pyplot as plt\n",
    "import torch.nn as nn\n",
    "import torch\n",
    "from torch.autograd import Variable\n",
    "import dateutil\n",
    "from sklearn.preprocessing import MinMaxScaler\n",
    "from sklearn.model_selection import train_test_split"
   ]
  },
  {
   "cell_type": "markdown",
   "metadata": {
    "colab_type": "text",
    "id": "nIUfEn3AbnJx"
   },
   "source": [
    "Pytorch configuration"
   ]
  },
  {
   "cell_type": "code",
   "execution_count": 3,
   "metadata": {
    "colab": {},
    "colab_type": "code",
    "id": "psKfQIoEbp_G"
   },
   "outputs": [
    {
     "name": "stdout",
     "output_type": "stream",
     "text": [
      "GeForce GTX 980\n"
     ]
    }
   ],
   "source": [
    "#enable or diable GPU compute\n",
    "if torch.cuda.is_available():\n",
    "    device = torch.device('cuda')\n",
    "    print(torch.cuda.get_device_name(device))\n",
    "else:\n",
    "    device = torch.device('cpu')"
   ]
  },
  {
   "cell_type": "markdown",
   "metadata": {
    "colab_type": "text",
    "id": "J9__xvAweZjX"
   },
   "source": [
    "Network definition"
   ]
  },
  {
   "cell_type": "code",
   "execution_count": 4,
   "metadata": {
    "colab": {},
    "colab_type": "code",
    "id": "nqXtZc4SEjIg"
   },
   "outputs": [],
   "source": [
    "class RNN(nn.Module):\n",
    "    def __init__(self, i_size, h_size, n_layers, o_size, tickerName):\n",
    "        super(RNN, self).__init__()\n",
    "        self.tickerName=tickerName\n",
    "\n",
    "        self.rnn = nn.LSTM(\n",
    "            input_size=i_size,\n",
    "            hidden_size=h_size,\n",
    "            num_layers=n_layers,\n",
    "        )\n",
    "        self.out = nn.Linear(h_size, o_size)\n",
    "\n",
    "    def forward(self, x, h_state):\n",
    "        r_out, hidden_state = self.rnn(x, h_state)\n",
    "        \n",
    "        hidden_size = hidden_state[-1].size(-1)\n",
    "        r_out = r_out.view(-1, hidden_size)\n",
    "        outs = self.out(r_out)\n",
    "\n",
    "        return outs, hidden_state"
   ]
  },
  {
   "cell_type": "markdown",
   "metadata": {
    "colab_type": "text",
    "id": "XGfA76n4EtC7"
   },
   "source": [
    "Get the tickers of the companies in the Stock and Poor's Top 500"
   ]
  },
  {
   "cell_type": "code",
   "execution_count": 5,
   "metadata": {
    "colab": {},
    "colab_type": "code",
    "id": "kVUsKvrVoPvL"
   },
   "outputs": [],
   "source": [
    "def getTickersSP500():\n",
    "  LIST_OF_COMPANIES_WIKI = 'https://en.wikipedia.org/wiki/List_of_S%26P_500_companies'\n",
    "  website_url = requests.get(LIST_OF_COMPANIES_WIKI).text\n",
    "  soup = BeautifulSoup(website_url, \"html.parser\")\n",
    "  my_table = soup.find('table',{'class':'wikitable sortable', 'id': \"constituents\"})\n",
    "  label_items = my_table.findAll('a', {'class': 'external text', 'rel': 'nofollow'})\n",
    "  labels = []\n",
    "  for label_item in label_items:\n",
    "    label = label_item.get_text()\n",
    "    if label == 'reports' or label == 'Aptiv Plc':\n",
    "        continue\n",
    "    labels.append(label)\n",
    "  return labels"
   ]
  },
  {
   "cell_type": "markdown",
   "metadata": {
    "colab_type": "text",
    "id": "Tk6DkX5LHQgI"
   },
   "source": [
    "Create training and test dataset out of the the stock history"
   ]
  },
  {
   "cell_type": "code",
   "execution_count": 6,
   "metadata": {
    "colab": {},
    "colab_type": "code",
    "id": "wPE-lEhNg8gZ"
   },
   "outputs": [],
   "source": [
    "def createTrainTestDataset(tickerName):\n",
    "  #error checking for old/invalid tickers\n",
    "  #return 1 for invalid dimensions\n",
    "  #since yfinance returns an empty df on error\n",
    "  ticker = yf.Ticker(tickerName)\n",
    "  data_set = ticker.history(period=\"max\")\n",
    "  data_set = data_set[data_set.index>dateutil.parser.parse(\"2009-06-01\")]\n",
    "  data_set = data_set.drop(['Dividends', 'Stock Splits', 'High', 'Low', 'Close','Volume'], axis = 1)\n",
    "  train_set, test_set = train_test_split(data_set, test_size=0.2, train_size=0.8, shuffle=False)\n",
    "  sc = MinMaxScaler(feature_range = (0, 1))\n",
    "  train_fit = sc.fit(train_set)\n",
    "  train_scaled = sc.transform(train_set)\n",
    "  # Creating a data structure with 60 timesteps and 1 output\n",
    "  x_train = []\n",
    "  y_train = []\n",
    "  for i in range(INPUT_SIZE, train_scaled.shape[0]):\n",
    "    x_train.append(train_scaled[i-INPUT_SIZE:i, 0])\n",
    "    y_train.append(train_scaled[i, 0])\n",
    "  x_train, y_train = np.array(x_train), np.array(y_train)\n",
    "\n",
    "  # Reshaping\n",
    "  x_train = np.reshape(x_train, (x_train.shape[0], 1, x_train.shape[1]))\n",
    "  return x_train, y_train, train_set, test_set, sc"
   ]
  },
  {
   "cell_type": "markdown",
   "metadata": {
    "colab_type": "text",
    "id": "qMZTxNqKHaa1"
   },
   "source": [
    "Function definition to establish hyper-parameters and return network"
   ]
  },
  {
   "cell_type": "code",
   "execution_count": 7,
   "metadata": {
    "colab": {},
    "colab_type": "code",
    "id": "P9jXrUH7GXOE"
   },
   "outputs": [],
   "source": [
    "# network hyper parameters\n",
    "INPUT_SIZE = 60\n",
    "HIDDEN_SIZE = 64\n",
    "NUM_LAYERS = 1\n",
    "OUTPUT_SIZE = 1\n",
    "learning_rate = 0.001\n",
    "num_epochs = 100\n",
    "\n",
    "def createNetwork(tickerName):\n",
    "  rnn = RNN(INPUT_SIZE, HIDDEN_SIZE, NUM_LAYERS, OUTPUT_SIZE, tickerName).to(device)\n",
    "  criterion = nn.MSELoss()\n",
    "  optimizer = torch.optim.Adam(rnn.parameters(), lr=learning_rate)\n",
    "  hidden_state = None\n",
    "  return rnn, optimizer, criterion, hidden_state"
   ]
  },
  {
   "cell_type": "markdown",
   "metadata": {
    "colab_type": "text",
    "id": "RYv0GUh_H5W-"
   },
   "source": [
    "Train the neural network using the training data"
   ]
  },
  {
   "cell_type": "code",
   "execution_count": 8,
   "metadata": {
    "colab": {},
    "colab_type": "code",
    "id": "7uQB0C0IIJJo"
   },
   "outputs": [],
   "source": [
    "def trainNetwork(network, optimizer, criterion, hidden_state):\n",
    "  for epoch in range(num_epochs):\n",
    "    inputs = Variable(torch.from_numpy(x_train).float()).to(device)\n",
    "    labels = Variable(torch.from_numpy(y_train).float()).to(device)\n",
    "    output, hidden_state = network(inputs, hidden_state)\n",
    "    loss = criterion(output.view(-1), labels)\n",
    "    optimizer.zero_grad()\n",
    "    loss.backward(retain_graph=True)                     # back propagation\n",
    "    optimizer.step()                                     # update the parameters\n",
    "    torch.cuda.empty_cache()\n",
    "    print('epoch {}, loss {}'.format(epoch,loss.item()))"
   ]
  },
  {
   "cell_type": "code",
   "execution_count": 9,
   "metadata": {
    "colab": {},
    "colab_type": "code",
    "id": "65P-HDHCl0N-"
   },
   "outputs": [],
   "source": [
    "def testNetwork(network, x_train, y_train, train_set, test_set, sc):\n",
    "  real_stock_price = test_set.values\n",
    "  total_set = pd.concat((train_set['Open'], test_set['Open']), axis = 0)\n",
    "  inputs = total_set[len(total_set) - len(test_set) - INPUT_SIZE:].values\n",
    "  inputs = inputs.reshape(-1,1)\n",
    "  inputs = sc.transform(inputs)\n",
    "\n",
    "  x_test = []\n",
    "  for i in range(INPUT_SIZE, inputs.shape[0]):\n",
    "      x_test.append(inputs[i-INPUT_SIZE:i, 0])\n",
    "  x_test = np.array(x_test)\n",
    "  x_test = np.reshape(x_test, (x_test.shape[0], 1, x_test.shape[1]))\n",
    "\n",
    "  x_train_x_test = np.concatenate((x_train, x_test),axis=0)\n",
    "  hidden_state = None\n",
    "  test_inputs = Variable(torch.from_numpy(x_train_x_test).float()).cuda()\n",
    "  predicted_stock_price, b = network(test_inputs, hidden_state)\n",
    "  predicted_stock_price = np.reshape(predicted_stock_price.detach().cpu().numpy(), (test_inputs.shape[0], 1))\n",
    "  predicted_stock_price = sc.inverse_transform(predicted_stock_price)\n",
    "\n",
    "  real_stock_price_all = np.concatenate((train_set[INPUT_SIZE:], real_stock_price))\n",
    "  print(real_stock_price_all.shape)\n",
    "  print(predicted_stock_price.shape)\n",
    "  # Visualising the results\n",
    "  plt.figure(1, figsize=(12, 5))\n",
    "  plt.plot(real_stock_price_all, color = 'red', label = 'Real')\n",
    "  plt.plot(predicted_stock_price, color = 'blue', label = 'Pred')\n",
    "  plt.title('Stock Price Prediction')\n",
    "  plt.xlabel('Time')\n",
    "  plt.ylabel('Stock Price')\n",
    "  plt.legend()\n",
    "  plt.show()"
   ]
  },
  {
   "cell_type": "code",
   "execution_count": null,
   "metadata": {
    "colab": {
     "base_uri": "https://localhost:8080/",
     "height": 557
    },
    "colab_type": "code",
    "id": "XzJ6q_szekg2",
    "outputId": "6e650cda-90dc-4b5e-f735-089dee07143a"
   },
   "outputs": [
    {
     "name": "stdout",
     "output_type": "stream",
     "text": [
      "epoch 0, loss 0.311527281999588\n",
      "epoch 1, loss 0.21535910665988922\n",
      "epoch 2, loss 0.1394014209508896\n",
      "epoch 3, loss 0.08157200366258621\n",
      "epoch 4, loss 0.04035978391766548\n",
      "epoch 5, loss 0.014616858214139938\n",
      "epoch 6, loss 0.003174669574946165\n",
      "epoch 7, loss 0.004004072397947311\n",
      "epoch 8, loss 0.012721581384539604\n",
      "epoch 9, loss 0.022521160542964935\n",
      "epoch 10, loss 0.02843690663576126\n",
      "epoch 11, loss 0.029339611530303955\n",
      "epoch 12, loss 0.02634151093661785\n",
      "epoch 13, loss 0.021199090406298637\n",
      "epoch 14, loss 0.015504628419876099\n",
      "epoch 15, loss 0.010388091206550598\n",
      "epoch 16, loss 0.006478505674749613\n",
      "epoch 17, loss 0.003985147923231125\n",
      "epoch 18, loss 0.0028204366099089384\n",
      "epoch 19, loss 0.002720970893278718\n",
      "epoch 20, loss 0.0033460697159171104\n",
      "epoch 21, loss 0.004349699709564447\n",
      "epoch 22, loss 0.005430231802165508\n",
      "epoch 23, loss 0.006360882893204689\n",
      "epoch 24, loss 0.007000215817242861\n",
      "epoch 25, loss 0.007286240346729755\n",
      "epoch 26, loss 0.007221382111310959\n",
      "epoch 27, loss 0.006854499224573374\n",
      "epoch 28, loss 0.006263351533561945\n",
      "epoch 29, loss 0.0055391136556863785\n",
      "epoch 30, loss 0.00477348268032074\n",
      "epoch 31, loss 0.004048570524901152\n",
      "epoch 32, loss 0.0034294582437723875\n",
      "epoch 33, loss 0.0029594176448881626\n",
      "epoch 34, loss 0.0026577129028737545\n",
      "epoch 35, loss 0.002520073903724551\n",
      "epoch 36, loss 0.002521767280995846\n",
      "epoch 37, loss 0.0026230134535580873\n",
      "epoch 38, loss 0.0027761361561715603\n",
      "epoch 39, loss 0.002933416748419404\n",
      "epoch 40, loss 0.003054384607821703\n",
      "epoch 41, loss 0.0031113000586628914\n",
      "epoch 42, loss 0.003091949736699462\n",
      "epoch 43, loss 0.0029994354117661715\n",
      "epoch 44, loss 0.0028493066783994436\n",
      "epoch 45, loss 0.0026649273931980133\n",
      "epoch 46, loss 0.002472167368978262\n",
      "epoch 47, loss 0.0022945173550397158\n",
      "epoch 48, loss 0.002149463165551424\n",
      "epoch 49, loss 0.002046511974185705\n",
      "epoch 50, loss 0.001986950868740678\n",
      "epoch 51, loss 0.0019650296308100224\n",
      "epoch 52, loss 0.0019701123237609863\n",
      "epoch 53, loss 0.001989264041185379\n",
      "epoch 54, loss 0.002009762916713953\n",
      "epoch 55, loss 0.0020211595110595226\n",
      "epoch 56, loss 0.00201663700863719\n",
      "epoch 57, loss 0.0019935586024075747\n",
      "epoch 58, loss 0.0019532658625394106\n",
      "epoch 59, loss 0.001900227041915059\n",
      "epoch 60, loss 0.001840794226154685\n",
      "epoch 61, loss 0.0017817877233028412\n",
      "epoch 62, loss 0.0017291774274781346\n",
      "epoch 63, loss 0.0016870753606781363\n",
      "epoch 64, loss 0.0016571885207667947\n",
      "epoch 65, loss 0.0016387894283980131\n",
      "epoch 66, loss 0.0016291667707264423\n",
      "epoch 67, loss 0.00162442063447088\n",
      "epoch 68, loss 0.0016204058192670345\n",
      "epoch 69, loss 0.0016136200865730643\n",
      "epoch 70, loss 0.0016018371097743511\n",
      "epoch 71, loss 0.0015843899454921484\n",
      "epoch 72, loss 0.0015620737103745341\n",
      "epoch 73, loss 0.0015367375453934073\n",
      "epoch 74, loss 0.0015107052167877555\n",
      "epoch 75, loss 0.0014861715026199818\n",
      "epoch 76, loss 0.0014647215139120817\n",
      "epoch 77, loss 0.001447061775252223\n",
      "epoch 78, loss 0.0014329950790852308\n",
      "epoch 79, loss 0.0014216034905984998\n",
      "epoch 80, loss 0.0014115714002400637\n",
      "epoch 81, loss 0.001401549787260592\n",
      "epoch 82, loss 0.0013904739171266556\n",
      "epoch 83, loss 0.0013777645071968436\n",
      "epoch 84, loss 0.0013633897760882974\n",
      "epoch 85, loss 0.0013477862812578678\n",
      "epoch 86, loss 0.0013316803378984332\n",
      "epoch 87, loss 0.0013158679939806461\n",
      "epoch 88, loss 0.0013010052498430014\n",
      "epoch 89, loss 0.0012874689418822527\n",
      "epoch 90, loss 0.0012753007467836142\n",
      "epoch 91, loss 0.0012642492074519396\n",
      "epoch 92, loss 0.001253878464922309\n",
      "epoch 93, loss 0.0012437071418389678\n",
      "epoch 94, loss 0.0012333435006439686\n",
      "epoch 95, loss 0.0012225727550685406\n",
      "epoch 96, loss 0.001211385941132903\n",
      "epoch 97, loss 0.0011999490670859814\n",
      "epoch 98, loss 0.0011885270942002535\n",
      "epoch 99, loss 0.0011773946462199092\n",
      "(2575, 1)\n",
      "(2575, 1)\n"
     ]
    },
    {
     "data": {
      "image/png": "[encoded data removed]",
      "text/plain": [
       "<Figure size 864x360 with 1 Axes>"
      ]
     },
     "metadata": {},
     "output_type": "display_data"
    },
    {
     "name": "stdout",
     "output_type": "stream",
     "text": [
      "epoch 0, loss 0.2192484438419342\n",
      "epoch 1, loss 0.15002989768981934\n",
      "epoch 2, loss 0.09412193298339844\n",
      "epoch 3, loss 0.05109899863600731\n",
      "epoch 4, loss 0.021444011479616165\n",
      "epoch 5, loss 0.005948198493570089\n",
      "epoch 6, loss 0.004588954616338015\n",
      "epoch 7, loss 0.013798256404697895\n",
      "epoch 8, loss 0.024275977164506912\n",
      "epoch 9, loss 0.029163435101509094\n",
      "epoch 10, loss 0.027948297560214996\n",
      "epoch 11, loss 0.022931210696697235\n",
      "epoch 12, loss 0.016651473939418793\n",
      "epoch 13, loss 0.01094493642449379\n",
      "epoch 14, loss 0.006786251440644264\n",
      "epoch 15, loss 0.004442471079528332\n",
      "epoch 16, loss 0.0037153800949454308\n",
      "epoch 17, loss 0.004166073631495237\n",
      "epoch 18, loss 0.005281213670969009\n",
      "epoch 19, loss 0.006582929752767086\n",
      "epoch 20, loss 0.007700471673160791\n",
      "epoch 21, loss 0.008406258188188076\n",
      "epoch 22, loss 0.008612435311079025\n",
      "epoch 23, loss 0.00834200344979763\n",
      "epoch 24, loss 0.007692576851695776\n",
      "epoch 25, loss 0.00680234469473362\n",
      "epoch 26, loss 0.0058214180171489716\n",
      "epoch 27, loss 0.004889035597443581\n",
      "epoch 28, loss 0.004116451367735863\n",
      "epoch 29, loss 0.0035753166303038597\n",
      "epoch 30, loss 0.0032918755896389484\n",
      "epoch 31, loss 0.003247459651902318\n",
      "epoch 32, loss 0.003385623451322317\n",
      "epoch 33, loss 0.0036254278384149075\n",
      "epoch 34, loss 0.0038788707461208105\n",
      "epoch 35, loss 0.00406898045912385\n",
      "epoch 36, loss 0.004144376143813133\n",
      "epoch 37, loss 0.004086845088750124\n",
      "epoch 38, loss 0.003910520114004612\n",
      "epoch 39, loss 0.0036537665873765945\n",
      "epoch 40, loss 0.003366763237863779\n",
      "epoch 41, loss 0.003098503453657031\n",
      "epoch 42, loss 0.002886394504457712\n",
      "epoch 43, loss 0.0027503198944032192\n",
      "epoch 44, loss 0.0026915762573480606\n",
      "epoch 45, loss 0.0026959218084812164\n",
      "epoch 46, loss 0.002739242510870099\n",
      "epoch 47, loss 0.002794194035232067\n",
      "epoch 48, loss 0.0028363263700157404\n",
      "epoch 49, loss 0.0028486140072345734\n",
      "epoch 50, loss 0.002823799615725875\n",
      "epoch 51, loss 0.002764435950666666\n",
      "epoch 52, loss 0.0026809119153767824\n",
      "epoch 53, loss 0.0025881039910018444\n",
      "epoch 54, loss 0.0025014556013047695\n",
      "epoch 55, loss 0.0024333528708666563\n",
      "epoch 56, loss 0.002390575595200062\n",
      "epoch 57, loss 0.002373306080698967\n",
      "epoch 58, loss 0.002375843934714794\n",
      "epoch 59, loss 0.00238872691988945\n",
      "epoch 60, loss 0.0024016150273382664\n",
      "epoch 61, loss 0.0024061037693172693\n",
      "epoch 62, loss 0.0023976960219442844\n",
      "epoch 63, loss 0.0023764667566865683\n",
      "epoch 64, loss 0.002346356865018606\n",
      "epoch 65, loss 0.0023134779185056686\n",
      "epoch 66, loss 0.002284030430018902\n",
      "epoch 67, loss 0.0022624973207712173\n",
      "epoch 68, loss 0.0022505903616547585\n",
      "epoch 69, loss 0.0022471484262496233\n",
      "epoch 70, loss 0.0022488823160529137\n",
      "epoch 71, loss 0.0022516322787851095\n",
      "epoch 72, loss 0.002251706086099148\n",
      "epoch 73, loss 0.0022468932438641787\n",
      "epoch 74, loss 0.002236895030364394\n",
      "epoch 75, loss 0.0022231247276067734\n",
      "epoch 76, loss 0.002208003308624029\n",
      "epoch 77, loss 0.0021940460428595543\n",
      "epoch 78, loss 0.002183043397963047\n",
      "epoch 79, loss 0.00217558559961617\n",
      "epoch 80, loss 0.0021710433065891266\n",
      "epoch 81, loss 0.0021679471246898174\n",
      "epoch 82, loss 0.002164596226066351\n",
      "epoch 83, loss 0.0021596557926386595\n",
      "epoch 84, loss 0.0021525456104427576\n",
      "epoch 85, loss 0.0021435192320495844\n",
      "epoch 86, loss 0.0021334385965019464\n",
      "epoch 87, loss 0.002123377053067088\n",
      "epoch 88, loss 0.0021142035257071257\n",
      "epoch 89, loss 0.002106303349137306\n",
      "epoch 90, loss 0.0020995130762457848\n",
      "epoch 91, loss 0.002093261107802391\n",
      "epoch 92, loss 0.002086840569972992\n",
      "epoch 93, loss 0.0020796884782612324\n",
      "epoch 94, loss 0.002071576425805688\n",
      "epoch 95, loss 0.002062644576653838\n",
      "epoch 96, loss 0.002053293166682124\n",
      "epoch 97, loss 0.0020439906511455774\n",
      "epoch 98, loss 0.002035080222412944\n",
      "epoch 99, loss 0.0020266636274755\n",
      "(2575, 1)\n",
      "(2575, 1)\n"
     ]
    },
    {
     "data": {
      "image/png": "[encoded data removed]",
      "text/plain": [
       "<Figure size 864x360 with 1 Axes>"
      ]
     },
     "metadata": {},
     "output_type": "display_data"
    },
    {
     "name": "stdout",
     "output_type": "stream",
     "text": [
      "epoch 0, loss 0.20417018234729767\n",
      "epoch 1, loss 0.1405337005853653\n",
      "epoch 2, loss 0.09053504467010498\n",
      "epoch 3, loss 0.052872419357299805\n",
      "epoch 4, loss 0.02632918767631054\n",
      "epoch 5, loss 0.010052992030978203\n",
      "epoch 6, loss 0.0033121234737336636\n",
      "epoch 7, loss 0.0047766780480742455\n",
      "epoch 8, loss 0.01140530128031969\n",
      "epoch 9, loss 0.018437739461660385\n",
      "epoch 10, loss 0.02237345650792122\n",
      "epoch 11, loss 0.02251863107085228\n",
      "epoch 12, loss 0.019860954955220222\n",
      "epoch 13, loss 0.015821941196918488\n",
      "epoch 14, loss 0.011619559489190578\n",
      "epoch 15, loss 0.008057152852416039\n",
      "epoch 16, loss 0.005526842549443245\n",
      "epoch 17, loss 0.004101414233446121\n",
      "epoch 18, loss 0.0036437707021832466\n",
      "epoch 19, loss 0.0038962073158472776\n",
      "epoch 20, loss 0.004553365521132946\n",
      "epoch 21, loss 0.005333311855792999\n",
      "epoch 22, loss 0.0060226391069591045\n",
      "epoch 23, loss 0.006490795407444239\n",
      "epoch 24, loss 0.006682347506284714\n",
      "epoch 25, loss 0.00659963209182024\n",
      "epoch 26, loss 0.006283971015363932\n"
     ]
    }
   ],
   "source": [
    "tickers = getTickersSP500()\n",
    "for tickerNumber, tickerName in enumerate(tickers):\n",
    "  if tickerNumber<10:\n",
    "    x_train, y_train, train_set, test_set, sc = createTrainTestDataset(tickerName)\n",
    "    network, optimizer, criterion, hidden_state = createNetwork(tickerName)\n",
    "    trainNetwork(network, optimizer, criterion, hidden_state)\n",
    "    testNetwork(network, x_train, y_train, train_set, test_set, sc)\n",
    "    # memory cleanup\n",
    "    del network\n",
    "    del optimizer\n",
    "    del criterion\n",
    "    del hidden_state\n",
    "    torch.cuda.empty_cache()"
   ]
  },
  {
   "cell_type": "code",
   "execution_count": null,
   "metadata": {},
   "outputs": [],
   "source": []
  }
 ],
 "metadata": {
  "accelerator": "GPU",
  "colab": {
   "collapsed_sections": [],
   "name": "trainNetworks.ipynb",
   "provenance": []
  },
  "kernelspec": {
   "display_name": "Python 3",
   "language": "python",
   "name": "python3"
  },
  "language_info": {
   "codemirror_mode": {
    "name": "ipython",
    "version": 3
   },
   "file_extension": ".py",
   "mimetype": "text/x-python",
   "name": "python",
   "nbconvert_exporter": "python",
   "pygments_lexer": "ipython3",
   "version": "3.5.5"
  }
 },
 "nbformat": 4,
 "nbformat_minor": 1
}
