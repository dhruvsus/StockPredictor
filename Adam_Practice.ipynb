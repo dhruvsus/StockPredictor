{
  "nbformat": 4,
  "nbformat_minor": 0,
  "metadata": {
    "colab": {
      "name": "Adam_Practice.ipynb",
      "provenance": [],
      "collapsed_sections": [],
      "include_colab_link": true
    },
    "kernelspec": {
      "name": "python3",
      "display_name": "Python 3"
    }
  },
  "cells": [
    {
      "cell_type": "markdown",
      "metadata": {
        "id": "view-in-github",
        "colab_type": "text"
      },
      "source": [
        "<a href=\"https://colab.research.google.com/github/dhruvsus/StockPredictor/blob/master/Adam_Practice.ipynb\" target=\"_parent\"><img src=\"https://colab.research.google.com/assets/colab-badge.svg\" alt=\"Open In Colab\"/></a>"
      ]
    },
    {
      "cell_type": "code",
      "metadata": {
        "id": "yweC2SEL10o7",
        "colab_type": "code",
        "outputId": "20298ad3-8fd4-4462-ae5a-87015c3d150f",
        "colab": {
          "base_uri": "https://localhost:8080/",
          "height": 377
        }
      },
      "source": [
        "pip install yfinance"
      ],
      "execution_count": 0,
      "outputs": [
        {
          "output_type": "stream",
          "text": [
            "Collecting yfinance\n",
            "  Downloading https://files.pythonhosted.org/packages/53/0e/40387099824c98be22cd7e33a620e9d38b61998b031f0b33f0b9959717d2/yfinance-0.1.45.tar.gz\n",
            "Requirement already satisfied: pandas>=0.24 in /usr/local/lib/python3.6/dist-packages (from yfinance) (0.24.2)\n",
            "Requirement already satisfied: numpy>=1.15 in /usr/local/lib/python3.6/dist-packages (from yfinance) (1.16.5)\n",
            "Requirement already satisfied: requests>=2.20 in /usr/local/lib/python3.6/dist-packages (from yfinance) (2.21.0)\n",
            "Requirement already satisfied: multitasking>=0.0.7 in /usr/local/lib/python3.6/dist-packages (from yfinance) (0.0.9)\n",
            "Requirement already satisfied: pytz>=2011k in /usr/local/lib/python3.6/dist-packages (from pandas>=0.24->yfinance) (2018.9)\n",
            "Requirement already satisfied: python-dateutil>=2.5.0 in /usr/local/lib/python3.6/dist-packages (from pandas>=0.24->yfinance) (2.5.3)\n",
            "Requirement already satisfied: chardet<3.1.0,>=3.0.2 in /usr/local/lib/python3.6/dist-packages (from requests>=2.20->yfinance) (3.0.4)\n",
            "Requirement already satisfied: urllib3<1.25,>=1.21.1 in /usr/local/lib/python3.6/dist-packages (from requests>=2.20->yfinance) (1.24.3)\n",
            "Requirement already satisfied: idna<2.9,>=2.5 in /usr/local/lib/python3.6/dist-packages (from requests>=2.20->yfinance) (2.8)\n",
            "Requirement already satisfied: certifi>=2017.4.17 in /usr/local/lib/python3.6/dist-packages (from requests>=2.20->yfinance) (2019.9.11)\n",
            "Requirement already satisfied: six>=1.5 in /usr/local/lib/python3.6/dist-packages (from python-dateutil>=2.5.0->pandas>=0.24->yfinance) (1.12.0)\n",
            "Building wheels for collected packages: yfinance\n",
            "  Building wheel for yfinance (setup.py) ... \u001b[?25l\u001b[?25hdone\n",
            "  Created wheel for yfinance: filename=yfinance-0.1.45-cp36-none-any.whl size=14652 sha256=f1b4c67541f9509cbb384bd4ba503e5a824eb550c5dc533dd3dc0aa6a7f213fa\n",
            "  Stored in directory: /root/.cache/pip/wheels/0c/d1/df/aa9a7744a4ac353cc9a1f2c3aaea7c1f457fc49de4286f2d88\n",
            "Successfully built yfinance\n",
            "Installing collected packages: yfinance\n",
            "Successfully installed yfinance-0.1.45\n"
          ],
          "name": "stdout"
        }
      ]
    },
    {
      "cell_type": "code",
      "metadata": {
        "id": "xj5ziloq1je1",
        "colab_type": "code",
        "outputId": "77383469-1aec-48c4-f497-5749af6a7917",
        "colab": {
          "base_uri": "https://localhost:8080/",
          "height": 34
        }
      },
      "source": [
        "%tensorflow_version 2.x\n",
        "import tensorflow as tf\n",
        "import yfinance as yf\n",
        "import matplotlib.pyplot as plt\n",
        "import pandas as pd\n",
        "import csv"
      ],
      "execution_count": 0,
      "outputs": [
        {
          "output_type": "stream",
          "text": [
            "TensorFlow 2.x selected.\n"
          ],
          "name": "stdout"
        }
      ]
    },
    {
      "cell_type": "code",
      "metadata": {
        "id": "EvuCAe_C6-zk",
        "colab_type": "code",
        "colab": {}
      },
      "source": [
        ""
      ],
      "execution_count": 0,
      "outputs": []
    },
    {
      "cell_type": "code",
      "metadata": {
        "id": "3IHZDlbI2sye",
        "colab_type": "code",
        "outputId": "2a4d89b1-61b4-4eec-d9c5-a22af6215b79",
        "colab": {
          "base_uri": "https://localhost:8080/",
          "height": 1000
        }
      },
      "source": [
        "data = yf.download('AAPL', '2018-01-01', '2019-10-04')\n",
        "#data.plot()\n",
        "#plt.show()\n",
        "data2 = pd.DataFrame(data)\n",
        "print(data2)"
      ],
      "execution_count": 0,
      "outputs": [
        {
          "output_type": "stream",
          "text": [
            "\r[*********************100%***********************]  1 of 1 downloaded\n",
            "              Open    High     Low   Close  Adj Close    Volume\n",
            "Date                                                           \n",
            "2018-01-02  170.16  172.30  169.26  172.26     167.70  25555900\n",
            "2018-01-03  172.53  174.55  171.96  172.23     167.67  29517900\n",
            "2018-01-04  172.54  173.47  172.08  173.03     168.45  22434600\n",
            "2018-01-05  173.44  175.37  173.05  175.00     170.37  23660000\n",
            "2018-01-08  174.35  175.61  173.93  174.35     169.74  20567800\n",
            "2018-01-09  174.55  175.06  173.41  174.33     169.72  21584000\n",
            "2018-01-10  173.16  174.30  173.00  174.29     169.68  23959900\n",
            "2018-01-11  174.59  175.49  174.49  175.28     170.64  18667700\n",
            "2018-01-12  176.18  177.36  175.65  177.09     172.40  25418100\n",
            "2018-01-16  177.90  179.39  176.14  176.19     171.53  29565900\n",
            "2018-01-17  176.15  179.25  175.07  179.10     174.36  34386800\n",
            "2018-01-18  179.37  180.10  178.25  179.26     174.52  31193400\n",
            "2018-01-19  178.61  179.58  177.41  178.46     173.74  32425100\n",
            "2018-01-22  177.30  177.78  176.60  177.00     172.32  27108600\n",
            "2018-01-23  177.30  179.44  176.82  177.04     172.36  32689100\n",
            "2018-01-24  177.25  177.30  173.20  174.22     169.61  51105100\n",
            "2018-01-25  174.51  174.95  170.53  171.11     166.58  41529000\n",
            "2018-01-26  172.00  172.00  170.06  171.51     166.97  39143000\n",
            "2018-01-29  170.16  170.16  167.07  167.96     163.52  50640400\n",
            "2018-01-30  165.53  167.37  164.70  166.97     162.55  46048200\n",
            "2018-01-31  166.87  168.44  166.50  167.43     163.00  32478900\n",
            "2018-02-01  167.17  168.62  166.76  167.78     163.34  47230800\n",
            "2018-02-02  166.00  166.80  160.10  160.50     156.25  86593800\n",
            "2018-02-05  159.10  163.88  156.00  156.49     152.35  72738500\n",
            "2018-02-06  154.83  163.72  154.00  163.03     158.72  68243800\n",
            "2018-02-07  163.09  163.40  159.07  159.54     155.32  51608600\n",
            "2018-02-08  160.29  161.00  155.03  155.15     151.04  54390500\n",
            "2018-02-09  157.07  157.89  150.24  156.41     152.89  70672600\n",
            "2018-02-12  158.50  163.89  157.51  162.71     159.05  60819500\n",
            "2018-02-13  161.95  164.75  161.65  164.34     160.64  32549200\n",
            "...            ...     ...     ...     ...        ...       ...\n",
            "2019-08-22  213.19  214.44  210.75  212.46     212.46  22253700\n",
            "2019-08-23  209.43  212.05  201.00  202.64     202.64  46818000\n",
            "2019-08-26  205.86  207.19  205.06  206.49     206.49  26043600\n",
            "2019-08-27  207.86  208.55  203.53  204.16     204.16  25873300\n",
            "2019-08-28  204.10  205.72  203.32  205.53     205.53  15938800\n",
            "2019-08-29  208.50  209.32  206.66  209.01     209.01  20990500\n",
            "2019-08-30  210.16  210.45  207.20  208.74     208.74  21143400\n",
            "2019-09-03  206.43  206.98  204.22  205.70     205.70  20023000\n",
            "2019-09-04  208.39  209.48  207.32  209.19     209.19  19188100\n",
            "2019-09-05  212.00  213.97  211.51  213.28     213.28  23913700\n",
            "2019-09-06  214.05  214.42  212.51  213.26     213.26  19362300\n",
            "2019-09-09  214.84  216.44  211.07  214.17     214.17  27309400\n",
            "2019-09-10  213.86  216.78  211.71  216.70     216.70  31777900\n",
            "2019-09-11  218.07  223.71  217.73  223.59     223.59  44289600\n",
            "2019-09-12  224.80  226.42  222.86  223.09     223.09  32226700\n",
            "2019-09-13  220.00  220.79  217.02  218.75     218.75  39763300\n",
            "2019-09-16  217.73  220.13  217.56  219.90     219.90  21158100\n",
            "2019-09-17  219.96  220.82  219.12  220.70     220.70  18318700\n",
            "2019-09-18  221.06  222.85  219.44  222.77     222.77  25340000\n",
            "2019-09-19  222.01  223.76  220.37  220.96     220.96  22060600\n",
            "2019-09-20  221.38  222.56  217.47  217.73     217.73  55413100\n",
            "2019-09-23  218.95  219.84  217.65  218.72     218.72  19165500\n",
            "2019-09-24  221.03  222.49  217.19  217.68     217.68  31190800\n",
            "2019-09-25  218.55  221.50  217.14  221.03     221.03  21903400\n",
            "2019-09-26  220.00  220.94  218.83  219.89     219.89  18833500\n",
            "2019-09-27  220.54  220.96  217.28  218.82     218.82  25352000\n",
            "2019-09-30  220.90  224.58  220.79  223.97     223.97  25977400\n",
            "2019-10-01  225.07  228.22  224.20  224.59     224.59  34805800\n",
            "2019-10-02  223.06  223.58  217.93  218.96     218.96  34612300\n",
            "2019-10-03  218.43  220.96  215.13  220.82     220.82  28606500\n",
            "\n",
            "[442 rows x 6 columns]\n"
          ],
          "name": "stdout"
        }
      ]
    }
  ]
}