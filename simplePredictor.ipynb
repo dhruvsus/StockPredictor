{
 "cells": [
  {
   "cell_type": "code",
   "execution_count": 1,
   "metadata": {},
   "outputs": [],
   "source": [
    "#imports\n",
    "import requests\n",
    "import yfinance as yf\n",
    "from bs4 import BeautifulSoup\n",
    "import numpy as np\n",
    "import pandas as pd\n",
    "import matplotlib.pyplot as plt\n",
    "import torch.nn as nn\n",
    "import torch\n",
    "from torch.autograd import Variable"
   ]
  },
  {
   "cell_type": "code",
   "execution_count": 2,
   "metadata": {},
   "outputs": [
    {
     "name": "stdout",
     "output_type": "stream",
     "text": [
      "['MMM', 'ABT', 'ABBV', 'ABMD', 'ACN', 'ATVI', 'ADBE', 'AMD', 'AAP', 'AES', 'AMG', 'AFL', 'A', 'APD', 'AKAM', 'ALK', 'ALB', 'ARE', 'ALXN', 'ALGN', 'ALLE', 'AGN', 'ADS', 'LNT', 'ALL', 'GOOGL', 'GOOG', 'MO', 'AMZN', 'AMCR', 'AEE', 'AAL', 'AEP', 'AXP', 'AIG', 'AMT', 'AWK', 'AMP', 'ABC', 'AME', 'AMGN', 'APH', 'ADI', 'ANSS', 'ANTM', 'AON', 'AOS', 'APA', 'AIV', 'AAPL', 'AMAT', 'APTV', 'ADM', 'ARNC', 'ANET', 'AJG', 'AIZ', 'ATO', 'T', 'ADSK', 'ADP', 'AZO', 'AVB', 'AVY', 'BKR', 'BLL', 'BAC', 'BK', 'BAX', 'BBT', 'BDX', 'BRK.B', 'BBY', 'BIIB', 'BLK', 'HRB', 'BA', 'BKNG', 'BWA', 'BXP', 'BSX', 'BMY', 'AVGO', 'BR', 'BF.B', 'CHRW', 'COG', 'CDNS', 'CPB', 'COF', 'CPRI', 'CAH', 'KMX', 'CCL', 'CAT', 'CBOE', 'CBRE', 'CBS', 'CDW', 'CE', 'CELG', 'CNC', 'CNP', 'CTL', 'CERN', 'CF', 'SCHW', 'CHTR', 'CVX', 'CMG', 'CB', 'CHD', 'CI', 'XEC', 'CINF', 'CTAS', 'CSCO', 'C', 'CFG', 'CTXS', 'CLX', 'CME', 'CMS', 'KO', 'CTSH', 'CL', 'CMCSA', 'CMA', 'CAG', 'CXO', 'COP', 'ED', 'STZ', 'COO', 'CPRT', 'GLW', 'CTVA', 'COST', 'COTY', 'CCI', 'CSX', 'CMI', 'CVS', 'DHI', 'DHR', 'DRI', 'DVA', 'DE', 'DAL', 'XRAY', 'DVN', 'FANG', 'DLR', 'DFS', 'DISCA', 'DISCK', 'DISH', 'DG', 'DLTR', 'D', 'DOV', 'DOW', 'DTE', 'DUK', 'DRE', 'DD', 'DXC', 'ETFC', 'EMN', 'ETN', 'EBAY', 'ECL', 'EIX', 'EW', 'EA', 'EMR', 'ETR', 'EOG', 'EFX', 'EQIX', 'EQR', 'ESS', 'EL', 'EVRG', 'ES', 'RE', 'EXC', 'EXPE', 'EXPD', 'EXR', 'XOM', 'FFIV', 'FB', 'FAST', 'FRT', 'FDX', 'FIS', 'FITB', 'FE', 'FRC', 'FISV', 'FLT', 'FLIR', 'FLS', 'FMC', 'F', 'FTNT', 'FTV', 'FBHS', 'FOXA', 'FOX', 'BEN', 'FCX', 'GPS', 'GRMN', 'IT', 'GD', 'GE', 'GIS', 'GM', 'GPC', 'GILD', 'GL', 'GPN', 'GS', 'GWW', 'HAL', 'HBI', 'HOG', 'HIG', 'HAS', 'HCA', 'PEAK', 'HP', 'HSIC', 'HSY', 'HES', 'HPE', 'HLT', 'HFC', 'HOLX', 'HD', 'HON', 'HRL', 'HST', 'HPQ', 'HUM', 'HBAN', 'HII', 'IEX', 'IDXX', 'INFO', 'ITW', 'ILMN', 'IR', 'INTC', 'ICE', 'IBM', 'INCY', 'IP', 'IPG', 'IFF', 'INTU', 'ISRG', 'IVZ', 'IPGP', 'IQV', 'IRM', 'JKHY', 'JEC', 'JBHT', 'SJM', 'JNJ', 'JCI', 'JPM', 'JNPR', 'KSU', 'K', 'KEY', 'KEYS', 'KMB', 'KIM', 'KMI', 'KLAC', 'KSS', 'KHC', 'KR', 'LB', 'LHX', 'LH', 'LRCX', 'LW', 'LVS', 'LEG', 'LDOS', 'LEN', 'LLY', 'LNC', 'LIN', 'LKQ', 'LMT', 'L', 'LOW', 'LYB', 'MTB', 'MAC', 'M', 'MRO', 'MPC', 'MKTX', 'MAR', 'MMC', 'MLM', 'MAS', 'MA', 'MKC', 'MXIM', 'MCD', 'MCK', 'MDT', 'MRK', 'MET', 'MTD', 'MGM', 'MCHP', 'MU', 'MSFT', 'MAA', 'MHK', 'TAP', 'MDLZ', 'MNST', 'MCO', 'MS', 'MOS', 'MSI', 'MSCI', 'MYL', 'NDAQ', 'NOV', 'NTAP', 'NFLX', 'NWL', 'NEM', 'NWSA', 'NWS', 'NEE', 'NLSN', 'NKE', 'NI', 'NBL', 'JWN', 'NSC', 'NTRS', 'NOC', 'NLOK', 'NCLH', 'NRG', 'NUE', 'NVDA', 'NVR', 'ORLY', 'OXY', 'OMC', 'OKE', 'ORCL', 'PCAR', 'PKG', 'PH', 'PAYX', 'PYPL', 'PNR', 'PBCT', 'PEP', 'PKI', 'PRGO', 'PFE', 'PM', 'PSX', 'PNW', 'PXD', 'PNC', 'PPG', 'PPL', 'PFG', 'PG', 'PGR', 'PLD', 'PRU', 'PEG', 'PSA', 'PHM', 'PVH', 'QRVO', 'PWR', 'QCOM', 'DGX', 'RL', 'RJF', 'RTN', 'O', 'REG', 'REGN', 'RF', 'RSG', 'RMD', 'RHI', 'ROK', 'ROL', 'ROP', 'ROST', 'RCL', 'CRM', 'SBAC', 'SLB', 'STX', 'SEE', 'SRE', 'SHW', 'SPG', 'SWKS', 'SLG', 'SNA', 'SO', 'LUV', 'SPGI', 'SWK', 'SBUX', 'STT', 'SYK', 'STI', 'SIVB', 'SYF', 'SNPS', 'SYY', 'TMUS', 'TROW', 'TTWO', 'TPR', 'TGT', 'TEL', 'FTI', 'TFX', 'TXN', 'TXT', 'TMO', 'TIF', 'TWTR', 'TJX', 'TSCO', 'TDG', 'TRV', 'TRIP', 'TSN', 'UDR', 'ULTA', 'USB', 'UAA', 'UA', 'UNP', 'UAL', 'UNH', 'UPS', 'URI', 'UTX', 'UHS', 'UNM', 'VFC', 'VLO', 'VAR', 'VTR', 'VRSN', 'VRSK', 'VZ', 'VRTX', 'VIAB', 'V', 'VNO', 'VMC', 'WAB', 'WMT', 'WBA', 'DIS', 'WM', 'WAT', 'WEC', 'WCG', 'WFC', 'WELL', 'WDC', 'WU', 'WRK', 'WY', 'WHR', 'WMB', 'WLTW', 'WYNN', 'XEL', 'XRX', 'XLNX', 'XYL', 'YUM', 'ZBH', 'ZION', 'ZTS']\n"
     ]
    }
   ],
   "source": [
    "LIST_OF_COMPANIES_WIKI = 'https://en.wikipedia.org/wiki/List_of_S%26P_500_companies'\n",
    "website_url = requests.get(LIST_OF_COMPANIES_WIKI).text\n",
    "soup = BeautifulSoup(website_url, \"html.parser\")\n",
    "my_table = soup.find('table',{'class':'wikitable sortable', 'id': \"constituents\"})\n",
    "label_items = my_table.findAll('a', {'class': 'external text', 'rel': 'nofollow'})\n",
    "labels = []\n",
    "for label_item in label_items:\n",
    "    label = label_item.get_text()\n",
    "    if label == 'reports' or label == 'Aptiv Plc':\n",
    "        continue\n",
    "    labels.append(label)\n",
    "print(labels)"
   ]
  },
  {
   "cell_type": "code",
   "execution_count": 3,
   "metadata": {},
   "outputs": [],
   "source": [
    "# Globals\n",
    "\n",
    "INPUT_SIZE = 60\n",
    "HIDDEN_SIZE = 64\n",
    "NUM_LAYERS = 2\n",
    "OUTPUT_SIZE = 1\n",
    "\n",
    "# Hyper parameters\n",
    "\n",
    "learning_rate = 0.001\n",
    "num_epochs = 50"
   ]
  },
  {
   "cell_type": "code",
   "execution_count": 4,
   "metadata": {},
   "outputs": [
    {
     "name": "stdout",
     "output_type": "stream",
     "text": [
      "       Date    Open    High     Low   Close      Volume\n",
      "0  1/3/2012  325.25  332.83  324.97  663.59   7,380,500\n",
      "1  1/4/2012  331.27  333.87  329.08  666.45   5,749,400\n",
      "2  1/5/2012  329.83  330.75  326.89  657.21   6,590,300\n",
      "3  1/6/2012  328.34  328.77  323.68  648.24   5,405,900\n",
      "4  1/9/2012  322.04  322.29  309.46  620.76  11,688,800\n",
      "[[325.25]\n",
      " [331.27]\n",
      " [329.83]\n",
      " ...\n",
      " [793.7 ]\n",
      " [783.33]\n",
      " [782.75]]\n"
     ]
    }
   ],
   "source": [
    "# Importing the training set\n",
    "dataset_train = pd.read_csv('Google_Stock_Price_Train.csv')\n",
    "print(dataset_train.head())\n",
    "training_set = dataset_train.iloc[:, 1:2].values\n",
    "print(training_set)\n",
    "\n",
    "# Feature Scaling\n",
    "from sklearn.preprocessing import MinMaxScaler\n",
    "sc = MinMaxScaler(feature_range = (0, 1))\n",
    "training_set_scaled = sc.fit_transform(training_set)"
   ]
  },
  {
   "cell_type": "code",
   "execution_count": 5,
   "metadata": {},
   "outputs": [],
   "source": [
    "# Creating a data structure with 60 timesteps and 1 output\n",
    "X_train = []\n",
    "y_train = []\n",
    "for i in range(INPUT_SIZE, 1258):\n",
    "    X_train.append(training_set_scaled[i-INPUT_SIZE:i, 0])\n",
    "    y_train.append(training_set_scaled[i, 0])\n",
    "X_train, y_train = np.array(X_train), np.array(y_train)\n",
    "\n",
    "# Reshaping\n",
    "X_train = np.reshape(X_train, (X_train.shape[0], 1, X_train.shape[1]))\n",
    "\n",
    "class RNN(nn.Module):\n",
    "    def __init__(self, i_size, h_size, n_layers, o_size):\n",
    "        super(RNN, self).__init__()\n",
    "\n",
    "        self.rnn = nn.LSTM(\n",
    "            input_size=i_size,\n",
    "            hidden_size=h_size,\n",
    "            num_layers=n_layers\n",
    "        )\n",
    "        self.out = nn.Linear(h_size, o_size)\n",
    "\n",
    "    def forward(self, x, h_state):\n",
    "        r_out, hidden_state = self.rnn(x, h_state)\n",
    "        \n",
    "        hidden_size = hidden_state[-1].size(-1)\n",
    "        r_out = r_out.view(-1, hidden_size)\n",
    "        outs = self.out(r_out)\n",
    "\n",
    "        return outs, hidden_state\n",
    "\n",
    "rnn = RNN(INPUT_SIZE, HIDDEN_SIZE, NUM_LAYERS, OUTPUT_SIZE).cuda()\n",
    "optimiser = torch.optim.Adam(rnn.parameters(), lr=learning_rate)\n",
    "criterion = nn.MSELoss()\n",
    "hidden_state = None"
   ]
  },
  {
   "cell_type": "code",
   "execution_count": 6,
   "metadata": {},
   "outputs": [
    {
     "name": "stdout",
     "output_type": "stream",
     "text": [
      "epoch 0, loss 0.34254905581474304\n",
      "epoch 1, loss 0.2722420394420624\n",
      "epoch 2, loss 0.20585627853870392\n",
      "epoch 3, loss 0.14330635964870453\n",
      "epoch 4, loss 0.08666739612817764\n",
      "epoch 5, loss 0.04045591875910759\n",
      "epoch 6, loss 0.012437633238732815\n",
      "epoch 7, loss 0.012160560116171837\n",
      "epoch 8, loss 0.036304112523794174\n",
      "epoch 9, loss 0.05250095948576927\n",
      "epoch 10, loss 0.04975320026278496\n",
      "epoch 11, loss 0.037041787058115005\n",
      "epoch 12, loss 0.0237869955599308\n",
      "epoch 13, loss 0.014929261989891529\n",
      "epoch 14, loss 0.011426015757024288\n",
      "epoch 15, loss 0.01202458143234253\n",
      "epoch 16, loss 0.014796602539718151\n",
      "epoch 17, loss 0.01801932603120804\n",
      "epoch 18, loss 0.020531756803393364\n",
      "epoch 19, loss 0.021749746054410934\n",
      "epoch 20, loss 0.02153957076370716\n",
      "epoch 21, loss 0.020076122134923935\n",
      "epoch 22, loss 0.017727646976709366\n",
      "epoch 23, loss 0.014966935850679874\n",
      "epoch 24, loss 0.012295220047235489\n",
      "epoch 25, loss 0.010165693238377571\n",
      "epoch 26, loss 0.008900747634470463\n",
      "epoch 27, loss 0.00860968790948391\n",
      "epoch 28, loss 0.009131645783782005\n",
      "epoch 29, loss 0.010045181028544903\n",
      "epoch 30, loss 0.010789918713271618\n",
      "epoch 31, loss 0.010904345661401749\n",
      "epoch 32, loss 0.010249431245028973\n",
      "epoch 33, loss 0.009039649739861488\n",
      "epoch 34, loss 0.007686198689043522\n",
      "epoch 35, loss 0.006585311610251665\n",
      "epoch 36, loss 0.0059661418199539185\n",
      "epoch 37, loss 0.005844013299793005\n",
      "epoch 38, loss 0.006063457112759352\n",
      "epoch 39, loss 0.006386955734342337\n",
      "epoch 40, loss 0.006588223855942488\n",
      "epoch 41, loss 0.006524129770696163\n",
      "epoch 42, loss 0.006171840243041515\n",
      "epoch 43, loss 0.005625841207802296\n",
      "epoch 44, loss 0.0050570787861943245\n",
      "epoch 45, loss 0.00464452151209116\n",
      "epoch 46, loss 0.004499278962612152\n",
      "epoch 47, loss 0.004610994830727577\n",
      "epoch 48, loss 0.004848840180784464\n",
      "epoch 49, loss 0.0050307693891227245\n"
     ]
    },
    {
     "data": {
      "image/png": "[encoded data removed]",
      "text/plain": [
       "<Figure size 864x360 with 1 Axes>"
      ]
     },
     "metadata": {
      "needs_background": "light"
     },
     "output_type": "display_data"
    }
   ],
   "source": [
    "for epoch in range(num_epochs):\n",
    "    inputs = Variable(torch.from_numpy(X_train).float()).cuda()\n",
    "    labels = Variable(torch.from_numpy(y_train).float()).cuda()\n",
    "\n",
    "    output, hidden_state = rnn(inputs, hidden_state) \n",
    "\n",
    "    loss = criterion(output.view(-1), labels)\n",
    "    optimiser.zero_grad()\n",
    "    loss.backward(retain_graph=True)                     # back propagation\n",
    "    optimiser.step()                                     # update the parameters\n",
    "    \n",
    "    print('epoch {}, loss {}'.format(epoch,loss.item()))\n",
    "\n",
    "# Getting the real stock price of 2017\n",
    "dataset_test = pd.read_csv('Google_Stock_Price_Test.csv')\n",
    "real_stock_price = dataset_test.iloc[:, 1:2].values\n",
    "\n",
    "# Getting the predicted stock price of 2017\n",
    "dataset_total = pd.concat((dataset_train['Open'], dataset_test['Open']), axis = 0)\n",
    "inputs = dataset_total[len(dataset_total) - len(dataset_test) - INPUT_SIZE:].values\n",
    "inputs = inputs.reshape(-1,1)\n",
    "inputs = sc.transform(inputs)\n",
    "X_test = []\n",
    "for i in range(INPUT_SIZE, 80):\n",
    "    X_test.append(inputs[i-INPUT_SIZE:i, 0])\n",
    "X_test = np.array(X_test)\n",
    "X_test = np.reshape(X_test, (X_test.shape[0], 1, X_test.shape[1]))\n",
    "\n",
    "X_train_X_test = np.concatenate((X_train, X_test),axis=0)\n",
    "hidden_state = None\n",
    "test_inputs = Variable(torch.from_numpy(X_train_X_test).float()).cuda()\n",
    "predicted_stock_price, b = rnn(test_inputs, hidden_state)\n",
    "predicted_stock_price = np.reshape(predicted_stock_price.detach().cpu().numpy(), (test_inputs.shape[0], 1))\n",
    "predicted_stock_price = sc.inverse_transform(predicted_stock_price)\n",
    "\n",
    "real_stock_price_all = np.concatenate((training_set[INPUT_SIZE:], real_stock_price))\n",
    "\n",
    "# Visualising the results\n",
    "plt.figure(1, figsize=(12, 5))\n",
    "plt.plot(real_stock_price_all, color = 'red', label = 'Real')\n",
    "plt.plot(predicted_stock_price, color = 'blue', label = 'Pred')\n",
    "plt.title('Google Stock Price Prediction')\n",
    "plt.xlabel('Time')\n",
    "plt.ylabel('Google Stock Price')\n",
    "plt.legend()\n",
    "plt.show()"
   ]
  }
 ],
 "metadata": {
  "kernelspec": {
   "display_name": "Python 3",
   "language": "python",
   "name": "python3"
  },
  "language_info": {
   "codemirror_mode": {
    "name": "ipython",
    "version": 3
   },
   "file_extension": ".py",
   "mimetype": "text/x-python",
   "name": "python",
   "nbconvert_exporter": "python",
   "pygments_lexer": "ipython3",
   "version": "3.6.8"
  }
 },
 "nbformat": 4,
 "nbformat_minor": 2
}
