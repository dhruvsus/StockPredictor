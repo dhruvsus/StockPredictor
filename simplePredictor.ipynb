{
 "cells": [
  {
   "cell_type": "code",
   "execution_count": 1,
   "metadata": {},
   "outputs": [],
   "source": [
    "#imports\n",
    "import requests\n",
    "import yfinance as yf\n",
    "from bs4 import BeautifulSoup\n",
    "import numpy as np\n",
    "import pandas as pd\n",
    "import matplotlib.pyplot as plt\n",
    "import torch.nn as nn\n",
    "import torch\n",
    "from torch.autograd import Variable\n",
    "import dateutil\n",
    "from sklearn.preprocessing import MinMaxScaler\n",
    "from sklearn.model_selection import train_test_split"
   ]
  },
  {
   "cell_type": "markdown",
   "metadata": {},
   "source": [
    "Get the tickers of the companies in the Stock and Poor's Top 500"
   ]
  },
  {
   "cell_type": "code",
   "execution_count": 2,
   "metadata": {},
   "outputs": [
    {
     "name": "stdout",
     "output_type": "stream",
     "text": [
      "['MMM', 'ABT', 'ABBV', 'ABMD', 'ACN', 'ATVI', 'ADBE', 'AMD', 'AAP', 'AES', 'AMG', 'AFL', 'A', 'APD', 'AKAM', 'ALK', 'ALB', 'ARE', 'ALXN', 'ALGN', 'ALLE', 'AGN', 'ADS', 'LNT', 'ALL', 'GOOGL', 'GOOG', 'MO', 'AMZN', 'AMCR', 'AEE', 'AAL', 'AEP', 'AXP', 'AIG', 'AMT', 'AWK', 'AMP', 'ABC', 'AME', 'AMGN', 'APH', 'ADI', 'ANSS', 'ANTM', 'AON', 'AOS', 'APA', 'AIV', 'AAPL', 'AMAT', 'APTV', 'ADM', 'ARNC', 'ANET', 'AJG', 'AIZ', 'ATO', 'T', 'ADSK', 'ADP', 'AZO', 'AVB', 'AVY', 'BKR', 'BLL', 'BAC', 'BK', 'BAX', 'BBT', 'BDX', 'BRK.B', 'BBY', 'BIIB', 'BLK', 'HRB', 'BA', 'BKNG', 'BWA', 'BXP', 'BSX', 'BMY', 'AVGO', 'BR', 'BF.B', 'CHRW', 'COG', 'CDNS', 'CPB', 'COF', 'CPRI', 'CAH', 'KMX', 'CCL', 'CAT', 'CBOE', 'CBRE', 'CBS', 'CDW', 'CE', 'CELG', 'CNC', 'CNP', 'CTL', 'CERN', 'CF', 'SCHW', 'CHTR', 'CVX', 'CMG', 'CB', 'CHD', 'CI', 'XEC', 'CINF', 'CTAS', 'CSCO', 'C', 'CFG', 'CTXS', 'CLX', 'CME', 'CMS', 'KO', 'CTSH', 'CL', 'CMCSA', 'CMA', 'CAG', 'CXO', 'COP', 'ED', 'STZ', 'COO', 'CPRT', 'GLW', 'CTVA', 'COST', 'COTY', 'CCI', 'CSX', 'CMI', 'CVS', 'DHI', 'DHR', 'DRI', 'DVA', 'DE', 'DAL', 'XRAY', 'DVN', 'FANG', 'DLR', 'DFS', 'DISCA', 'DISCK', 'DISH', 'DG', 'DLTR', 'D', 'DOV', 'DOW', 'DTE', 'DUK', 'DRE', 'DD', 'DXC', 'ETFC', 'EMN', 'ETN', 'EBAY', 'ECL', 'EIX', 'EW', 'EA', 'EMR', 'ETR', 'EOG', 'EFX', 'EQIX', 'EQR', 'ESS', 'EL', 'EVRG', 'ES', 'RE', 'EXC', 'EXPE', 'EXPD', 'EXR', 'XOM', 'FFIV', 'FB', 'FAST', 'FRT', 'FDX', 'FIS', 'FITB', 'FE', 'FRC', 'FISV', 'FLT', 'FLIR', 'FLS', 'FMC', 'F', 'FTNT', 'FTV', 'FBHS', 'FOXA', 'FOX', 'BEN', 'FCX', 'GPS', 'GRMN', 'IT', 'GD', 'GE', 'GIS', 'GM', 'GPC', 'GILD', 'GL', 'GPN', 'GS', 'GWW', 'HAL', 'HBI', 'HOG', 'HIG', 'HAS', 'HCA', 'PEAK', 'HP', 'HSIC', 'HSY', 'HES', 'HPE', 'HLT', 'HFC', 'HOLX', 'HD', 'HON', 'HRL', 'HST', 'HPQ', 'HUM', 'HBAN', 'HII', 'IEX', 'IDXX', 'INFO', 'ITW', 'ILMN', 'IR', 'INTC', 'ICE', 'IBM', 'INCY', 'IP', 'IPG', 'IFF', 'INTU', 'ISRG', 'IVZ', 'IPGP', 'IQV', 'IRM', 'JKHY', 'JEC', 'JBHT', 'SJM', 'JNJ', 'JCI', 'JPM', 'JNPR', 'KSU', 'K', 'KEY', 'KEYS', 'KMB', 'KIM', 'KMI', 'KLAC', 'KSS', 'KHC', 'KR', 'LB', 'LHX', 'LH', 'LRCX', 'LW', 'LVS', 'LEG', 'LDOS', 'LEN', 'LLY', 'LNC', 'LIN', 'LKQ', 'LMT', 'L', 'LOW', 'LYB', 'MTB', 'MAC', 'M', 'MRO', 'MPC', 'MKTX', 'MAR', 'MMC', 'MLM', 'MAS', 'MA', 'MKC', 'MXIM', 'MCD', 'MCK', 'MDT', 'MRK', 'MET', 'MTD', 'MGM', 'MCHP', 'MU', 'MSFT', 'MAA', 'MHK', 'TAP', 'MDLZ', 'MNST', 'MCO', 'MS', 'MOS', 'MSI', 'MSCI', 'MYL', 'NDAQ', 'NOV', 'NTAP', 'NFLX', 'NWL', 'NEM', 'NWSA', 'NWS', 'NEE', 'NLSN', 'NKE', 'NI', 'NBL', 'JWN', 'NSC', 'NTRS', 'NOC', 'NLOK', 'NCLH', 'NRG', 'NUE', 'NVDA', 'NVR', 'ORLY', 'OXY', 'OMC', 'OKE', 'ORCL', 'PCAR', 'PKG', 'PH', 'PAYX', 'PYPL', 'PNR', 'PBCT', 'PEP', 'PKI', 'PRGO', 'PFE', 'PM', 'PSX', 'PNW', 'PXD', 'PNC', 'PPG', 'PPL', 'PFG', 'PG', 'PGR', 'PLD', 'PRU', 'PEG', 'PSA', 'PHM', 'PVH', 'QRVO', 'PWR', 'QCOM', 'DGX', 'RL', 'RJF', 'RTN', 'O', 'REG', 'REGN', 'RF', 'RSG', 'RMD', 'RHI', 'ROK', 'ROL', 'ROP', 'ROST', 'RCL', 'CRM', 'SBAC', 'SLB', 'STX', 'SEE', 'SRE', 'SHW', 'SPG', 'SWKS', 'SLG', 'SNA', 'SO', 'LUV', 'SPGI', 'SWK', 'SBUX', 'STT', 'SYK', 'STI', 'SIVB', 'SYF', 'SNPS', 'SYY', 'TMUS', 'TROW', 'TTWO', 'TPR', 'TGT', 'TEL', 'FTI', 'TFX', 'TXN', 'TXT', 'TMO', 'TIF', 'TWTR', 'TJX', 'TSCO', 'TDG', 'TRV', 'TRIP', 'TSN', 'UDR', 'ULTA', 'USB', 'UAA', 'UA', 'UNP', 'UAL', 'UNH', 'UPS', 'URI', 'UTX', 'UHS', 'UNM', 'VFC', 'VLO', 'VAR', 'VTR', 'VRSN', 'VRSK', 'VZ', 'VRTX', 'VIAB', 'V', 'VNO', 'VMC', 'WAB', 'WMT', 'WBA', 'DIS', 'WM', 'WAT', 'WEC', 'WCG', 'WFC', 'WELL', 'WDC', 'WU', 'WRK', 'WY', 'WHR', 'WMB', 'WLTW', 'WYNN', 'XEL', 'XRX', 'XLNX', 'XYL', 'YUM', 'ZBH', 'ZION', 'ZTS']\n"
     ]
    }
   ],
   "source": [
    "LIST_OF_COMPANIES_WIKI = 'https://en.wikipedia.org/wiki/List_of_S%26P_500_companies'\n",
    "website_url = requests.get(LIST_OF_COMPANIES_WIKI).text\n",
    "soup = BeautifulSoup(website_url, \"html.parser\")\n",
    "my_table = soup.find('table',{'class':'wikitable sortable', 'id': \"constituents\"})\n",
    "label_items = my_table.findAll('a', {'class': 'external text', 'rel': 'nofollow'})\n",
    "labels = []\n",
    "for label_item in label_items:\n",
    "    label = label_item.get_text()\n",
    "    if label == 'reports' or label == 'Aptiv Plc':\n",
    "        continue\n",
    "    labels.append(label)\n",
    "print(labels)"
   ]
  },
  {
   "cell_type": "markdown",
   "metadata": {},
   "source": [
    "The model attributes are as follows: \n",
    "It takes in 60 days of prior stock information, currently only the opening prices. \n",
    "It has a double stacked LSTM layer with 64 hidden features, no batching, and no dropout.\n",
    "The output from the first LSTM is fed to the input to the second LSTM. The last layer is a Linear layer"
   ]
  },
  {
   "cell_type": "code",
   "execution_count": 3,
   "metadata": {},
   "outputs": [],
   "source": [
    "# Globals\n",
    "INPUT_SIZE = 60\n",
    "HIDDEN_SIZE = 64\n",
    "NUM_LAYERS = 2\n",
    "OUTPUT_SIZE = 1\n",
    "\n",
    "# Hyper parameters\n",
    "\n",
    "learning_rate = 0.001\n",
    "num_epochs = 100"
   ]
  },
  {
   "cell_type": "code",
   "execution_count": 4,
   "metadata": {},
   "outputs": [
    {
     "name": "stdout",
     "output_type": "stream",
     "text": [
      "(2106, 1)\n",
      "(527, 1)\n"
     ]
    }
   ],
   "source": [
    "# Importing the data set\n",
    "ticker = yf.Ticker(labels[0])\n",
    "data_set = ticker.history(period=\"max\")\n",
    "data_set = data_set[data_set.index>dateutil.parser.parse(\"2009-06-01\")]\n",
    "data_set = data_set.drop(['Dividends', 'Stock Splits', 'High', 'Low', 'Close','Volume'], axis = 1)\n",
    "train_set, test_set = train_test_split(data_set, test_size=0.2, train_size=0.8, shuffle=False)\n",
    "sc = MinMaxScaler(feature_range = (0, 1))\n",
    "train_fit = sc.fit(train_set)\n",
    "train_scaled = sc.transform(train_set)\n",
    "print(train_set.shape)\n",
    "print(test_set.shape)"
   ]
  },
  {
   "cell_type": "code",
   "execution_count": 5,
   "metadata": {},
   "outputs": [
    {
     "name": "stdout",
     "output_type": "stream",
     "text": [
      "(2046, 60)\n",
      "(2046,)\n"
     ]
    }
   ],
   "source": [
    "# Creating a data structure with 60 timesteps and 1 output\n",
    "x_train = []\n",
    "y_train = []\n",
    "for i in range(INPUT_SIZE, train_scaled.shape[0]):\n",
    "    x_train.append(train_scaled[i-INPUT_SIZE:i, 0])\n",
    "    y_train.append(train_scaled[i, 0])\n",
    "x_train, y_train = np.array(x_train), np.array(y_train)\n",
    "print(x_train.shape)\n",
    "print(y_train.shape)\n",
    "\n",
    "# Reshaping\n",
    "x_train = np.reshape(x_train, (x_train.shape[0], 1, x_train.shape[1]))\n",
    "\n",
    "class RNN(nn.Module):\n",
    "    def __init__(self, i_size, h_size, n_layers, o_size):\n",
    "        super(RNN, self).__init__()\n",
    "\n",
    "        self.rnn = nn.LSTM(\n",
    "            input_size=i_size,\n",
    "            hidden_size=h_size,\n",
    "            num_layers=n_layers,\n",
    "            dropout=0.1\n",
    "        )\n",
    "        self.out = nn.Linear(h_size, o_size)\n",
    "\n",
    "    def forward(self, x, h_state):\n",
    "        r_out, hidden_state = self.rnn(x, h_state)\n",
    "        \n",
    "        hidden_size = hidden_state[-1].size(-1)\n",
    "        r_out = r_out.view(-1, hidden_size)\n",
    "        outs = self.out(r_out)\n",
    "\n",
    "        return outs, hidden_state\n",
    "\n",
    "rnn = RNN(INPUT_SIZE, HIDDEN_SIZE, NUM_LAYERS, OUTPUT_SIZE).cuda()\n",
    "optimiser = torch.optim.Adam(rnn.parameters(), lr=learning_rate)\n",
    "criterion = nn.MSELoss()\n",
    "hidden_state = None"
   ]
  },
  {
   "cell_type": "code",
   "execution_count": 6,
   "metadata": {},
   "outputs": [
    {
     "name": "stdout",
     "output_type": "stream",
     "text": [
      "epoch 0, loss 0.16031798720359802\n",
      "epoch 1, loss 0.12200219184160233\n",
      "epoch 2, loss 0.08903299272060394\n",
      "epoch 3, loss 0.059300895780324936\n",
      "epoch 4, loss 0.03451600298285484\n",
      "epoch 5, loss 0.017741261050105095\n",
      "epoch 6, loss 0.013178756460547447\n",
      "epoch 7, loss 0.023113634437322617\n",
      "epoch 8, loss 0.03385026752948761\n",
      "epoch 9, loss 0.032897159457206726\n",
      "epoch 10, loss 0.025659486651420593\n",
      "epoch 11, loss 0.018206415697932243\n",
      "epoch 12, loss 0.013324491679668427\n",
      "epoch 13, loss 0.012259882874786854\n",
      "epoch 14, loss 0.012589412741363049\n",
      "epoch 15, loss 0.014010220766067505\n",
      "epoch 16, loss 0.015417137183248997\n",
      "epoch 17, loss 0.01546773687005043\n",
      "epoch 18, loss 0.014935409650206566\n",
      "epoch 19, loss 0.01351729966700077\n",
      "epoch 20, loss 0.01101360097527504\n",
      "epoch 21, loss 0.008642877452075481\n",
      "epoch 22, loss 0.006292559206485748\n",
      "epoch 23, loss 0.0047573815099895\n",
      "epoch 24, loss 0.004372247029095888\n",
      "epoch 25, loss 0.005030636675655842\n",
      "epoch 26, loss 0.00591705646365881\n",
      "epoch 27, loss 0.006198122166097164\n",
      "epoch 28, loss 0.005591400898993015\n",
      "epoch 29, loss 0.004198847338557243\n",
      "epoch 30, loss 0.002795696957036853\n",
      "epoch 31, loss 0.0022819635923951864\n",
      "epoch 32, loss 0.002289198338985443\n",
      "epoch 33, loss 0.0029197304975241423\n",
      "epoch 34, loss 0.003485796507447958\n",
      "epoch 35, loss 0.003652254119515419\n",
      "epoch 36, loss 0.0033494187518954277\n",
      "epoch 37, loss 0.002628551097586751\n",
      "epoch 38, loss 0.0021088130306452513\n",
      "epoch 39, loss 0.0019330700160935521\n",
      "epoch 40, loss 0.002105266321450472\n",
      "epoch 41, loss 0.0026267210487276316\n",
      "epoch 42, loss 0.0028338097035884857\n",
      "epoch 43, loss 0.0026575964875519276\n",
      "epoch 44, loss 0.0024082467425614595\n",
      "epoch 45, loss 0.00211694254539907\n",
      "epoch 46, loss 0.0020991566125303507\n",
      "epoch 47, loss 0.002159790601581335\n",
      "epoch 48, loss 0.002325165318325162\n",
      "epoch 49, loss 0.0021969019435346127\n",
      "epoch 50, loss 0.002165127545595169\n",
      "epoch 51, loss 0.0020064418204128742\n",
      "epoch 52, loss 0.0018663695082068443\n",
      "epoch 53, loss 0.0018074177205562592\n",
      "epoch 54, loss 0.0018311940366402268\n",
      "epoch 55, loss 0.002063238760456443\n",
      "epoch 56, loss 0.0018813477363437414\n",
      "epoch 57, loss 0.0019209121819585562\n",
      "epoch 58, loss 0.0019153411267325282\n",
      "epoch 59, loss 0.0017618393758311868\n",
      "epoch 60, loss 0.001748181995935738\n",
      "epoch 61, loss 0.0018008252372965217\n",
      "epoch 62, loss 0.001888801110908389\n",
      "epoch 63, loss 0.0019384174374863505\n",
      "epoch 64, loss 0.0017589443596079946\n",
      "epoch 65, loss 0.0017594252713024616\n",
      "epoch 66, loss 0.0016878200694918633\n",
      "epoch 67, loss 0.0017699175514280796\n",
      "epoch 68, loss 0.0017383912345394492\n",
      "epoch 69, loss 0.0018440523417666554\n",
      "epoch 70, loss 0.0017197909764945507\n",
      "epoch 71, loss 0.0016469279071316123\n",
      "epoch 72, loss 0.0016615402419120073\n",
      "epoch 73, loss 0.0016476954333484173\n",
      "epoch 74, loss 0.0015819143736734986\n",
      "epoch 75, loss 0.0016162313986569643\n",
      "epoch 76, loss 0.001603746903128922\n",
      "epoch 77, loss 0.001643469207920134\n",
      "epoch 78, loss 0.0015611669514328241\n",
      "epoch 79, loss 0.0016983303939923644\n",
      "epoch 80, loss 0.0015855992678552866\n",
      "epoch 81, loss 0.0016267814207822084\n",
      "epoch 82, loss 0.001638729707337916\n",
      "epoch 83, loss 0.0016327118501067162\n",
      "epoch 84, loss 0.0015746071003377438\n",
      "epoch 85, loss 0.0015628887340426445\n",
      "epoch 86, loss 0.001503929146565497\n",
      "epoch 87, loss 0.0016168535221368074\n",
      "epoch 88, loss 0.0015165996737778187\n",
      "epoch 89, loss 0.0015547326765954494\n",
      "epoch 90, loss 0.001609352184459567\n",
      "epoch 91, loss 0.0015521884197369218\n",
      "epoch 92, loss 0.0015183568466454744\n",
      "epoch 93, loss 0.0015707566635683179\n",
      "epoch 94, loss 0.0015606054803356528\n",
      "epoch 95, loss 0.0015270747244358063\n",
      "epoch 96, loss 0.0014762338250875473\n",
      "epoch 97, loss 0.0013261057902127504\n",
      "epoch 98, loss 0.0014840895310044289\n",
      "epoch 99, loss 0.0014814003370702267\n"
     ]
    }
   ],
   "source": [
    "for epoch in range(num_epochs):\n",
    "    inputs = Variable(torch.from_numpy(x_train).float()).cuda()\n",
    "    labels = Variable(torch.from_numpy(y_train).float()).cuda()\n",
    "\n",
    "    output, hidden_state = rnn(inputs, hidden_state) \n",
    "\n",
    "    loss = criterion(output.view(-1), labels)\n",
    "    optimiser.zero_grad()\n",
    "    loss.backward(retain_graph=True)                     # back propagation\n",
    "    optimiser.step()                                     # update the parameters\n",
    "    \n",
    "    print('epoch {}, loss {}'.format(epoch,loss.item()))"
   ]
  },
  {
   "cell_type": "code",
   "execution_count": 7,
   "metadata": {},
   "outputs": [
    {
     "name": "stdout",
     "output_type": "stream",
     "text": [
      "(2573, 1)\n",
      "(2573, 1)\n"
     ]
    }
   ],
   "source": [
    "real_stock_price = test_set.values\n",
    "total_set = pd.concat((train_set['Open'], test_set['Open']), axis = 0)\n",
    "inputs = total_set[len(total_set) - len(test_set) - INPUT_SIZE:].values\n",
    "inputs = inputs.reshape(-1,1)\n",
    "inputs = sc.transform(inputs)\n",
    "\n",
    "x_test = []\n",
    "for i in range(INPUT_SIZE, inputs.shape[0]):\n",
    "    x_test.append(inputs[i-INPUT_SIZE:i, 0])\n",
    "x_test = np.array(x_test)\n",
    "x_test = np.reshape(x_test, (x_test.shape[0], 1, x_test.shape[1]))\n",
    "\n",
    "x_train_x_test = np.concatenate((x_train, x_test),axis=0)\n",
    "hidden_state = None\n",
    "test_inputs = Variable(torch.from_numpy(x_train_x_test).float()).cuda()\n",
    "predicted_stock_price, b = rnn(test_inputs, hidden_state)\n",
    "predicted_stock_price = np.reshape(predicted_stock_price.detach().cpu().numpy(), (test_inputs.shape[0], 1))\n",
    "predicted_stock_price = sc.inverse_transform(predicted_stock_price)\n",
    "\n",
    "real_stock_price_all = np.concatenate((train_set[INPUT_SIZE:], real_stock_price))\n",
    "print(real_stock_price_all.shape)\n",
    "print(predicted_stock_price.shape)"
   ]
  },
  {
   "cell_type": "code",
   "execution_count": 8,
   "metadata": {},
   "outputs": [
    {
     "data": {
      "image/png": "[encoded data removed]",
      "text/plain": [
       "<Figure size 864x360 with 1 Axes>"
      ]
     },
     "metadata": {
      "needs_background": "light"
     },
     "output_type": "display_data"
    }
   ],
   "source": [
    "# Visualising the results\n",
    "plt.figure(1, figsize=(12, 5))\n",
    "plt.plot(real_stock_price_all, color = 'red', label = 'Real')\n",
    "plt.plot(predicted_stock_price, color = 'blue', label = 'Pred')\n",
    "plt.title('Stock Price Prediction')\n",
    "plt.xlabel('Time')\n",
    "plt.ylabel('Stock Price')\n",
    "plt.legend()\n",
    "plt.show()"
   ]
  },
  {
   "cell_type": "code",
   "execution_count": null,
   "metadata": {},
   "outputs": [],
   "source": []
  }
 ],
 "metadata": {
  "kernelspec": {
   "display_name": "Python 3",
   "language": "python",
   "name": "python3"
  },
  "language_info": {
   "codemirror_mode": {
    "name": "ipython",
    "version": 3
   },
   "file_extension": ".py",
   "mimetype": "text/x-python",
   "name": "python",
   "nbconvert_exporter": "python",
   "pygments_lexer": "ipython3",
   "version": "3.6.8"
  }
 },
 "nbformat": 4,
 "nbformat_minor": 2
}
