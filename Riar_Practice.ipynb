{
  "nbformat": 4,
  "nbformat_minor": 0,
  "metadata": {
    "colab": {
      "name": "Riar_Practice.ipynb",
      "provenance": [],
      "collapsed_sections": [],
      "include_colab_link": true
    },
    "kernelspec": {
      "name": "python3",
      "display_name": "Python 3"
    }
  },
  "cells": [
    {
      "cell_type": "markdown",
      "metadata": {
        "id": "view-in-github",
        "colab_type": "text"
      },
      "source": [
        "<a href=\"https://colab.research.google.com/github/dhruvsus/StockPredictor/blob/master/Riar_Practice.ipynb\" target=\"_parent\"><img src=\"https://colab.research.google.com/assets/colab-badge.svg\" alt=\"Open In Colab\"/></a>"
      ]
    },
    {
      "cell_type": "code",
      "metadata": {
        "id": "yweC2SEL10o7",
        "colab_type": "code",
        "outputId": "d5efd123-baba-4c69-93ac-a5f5c0d1646f",
        "colab": {
          "base_uri": "https://localhost:8080/",
          "height": 221
        }
      },
      "source": [
        "pip install yfinance"
      ],
      "execution_count": 4,
      "outputs": [
        {
          "output_type": "stream",
          "text": [
            "Requirement already satisfied: yfinance in /usr/local/lib/python3.6/dist-packages (0.1.45)\n",
            "Requirement already satisfied: requests>=2.20 in /usr/local/lib/python3.6/dist-packages (from yfinance) (2.21.0)\n",
            "Requirement already satisfied: numpy>=1.15 in /tensorflow-2.0.0/python3.6 (from yfinance) (1.17.3)\n",
            "Requirement already satisfied: multitasking>=0.0.7 in /usr/local/lib/python3.6/dist-packages (from yfinance) (0.0.9)\n",
            "Requirement already satisfied: pandas>=0.24 in /usr/local/lib/python3.6/dist-packages (from yfinance) (0.25.2)\n",
            "Requirement already satisfied: certifi>=2017.4.17 in /usr/local/lib/python3.6/dist-packages (from requests>=2.20->yfinance) (2019.9.11)\n",
            "Requirement already satisfied: chardet<3.1.0,>=3.0.2 in /usr/local/lib/python3.6/dist-packages (from requests>=2.20->yfinance) (3.0.4)\n",
            "Requirement already satisfied: idna<2.9,>=2.5 in /usr/local/lib/python3.6/dist-packages (from requests>=2.20->yfinance) (2.8)\n",
            "Requirement already satisfied: urllib3<1.25,>=1.21.1 in /usr/local/lib/python3.6/dist-packages (from requests>=2.20->yfinance) (1.24.3)\n",
            "Requirement already satisfied: python-dateutil>=2.6.1 in /usr/local/lib/python3.6/dist-packages (from pandas>=0.24->yfinance) (2.6.1)\n",
            "Requirement already satisfied: pytz>=2017.2 in /usr/local/lib/python3.6/dist-packages (from pandas>=0.24->yfinance) (2018.9)\n",
            "Requirement already satisfied: six>=1.5 in /tensorflow-2.0.0/python3.6 (from python-dateutil>=2.6.1->pandas>=0.24->yfinance) (1.12.0)\n"
          ],
          "name": "stdout"
        }
      ]
    },
    {
      "cell_type": "code",
      "metadata": {
        "id": "xj5ziloq1je1",
        "colab_type": "code",
        "colab": {}
      },
      "source": [
        "%tensorflow_version 2.x\n",
        "import tensorflow as tf\n",
        "import yfinance as yf\n",
        "import matplotlib.pyplot as plt\n",
        "import pandas as pd\n",
        "import csv"
      ],
      "execution_count": 0,
      "outputs": []
    },
    {
      "cell_type": "code",
      "metadata": {
        "id": "EvuCAe_C6-zk",
        "colab_type": "code",
        "colab": {}
      },
      "source": [
        ""
      ],
      "execution_count": 0,
      "outputs": []
    },
    {
      "cell_type": "code",
      "metadata": {
        "id": "3IHZDlbI2sye",
        "colab_type": "code",
        "outputId": "044f10b9-694f-4658-fd75-f5eae93eeeba",
        "colab": {
          "base_uri": "https://localhost:8080/",
          "height": 289
        }
      },
      "source": [
        "data = yf.download('AAPL', '1998-01-01', '1998-10-05')\n",
        "#data.plot()\n",
        "#print(data)\n",
        "#plt.show()\n",
        "data2 = pd.DataFrame(data)\n",
        "print(data2)"
      ],
      "execution_count": 6,
      "outputs": [
        {
          "output_type": "stream",
          "text": [
            "\r[*********************100%***********************]  1 of 1 downloaded\n",
            "            Open  High   Low  Close  Adj Close     Volume\n",
            "Date                                                     \n",
            "1998-01-02  0.49  0.58  0.48   0.58       0.51  179527600\n",
            "1998-01-05  0.59  0.59  0.54   0.57       0.49  162968400\n",
            "1998-01-06  0.57  0.71  0.53   0.68       0.59  453118400\n",
            "1998-01-07  0.67  0.68  0.62   0.62       0.55  260405600\n",
            "1998-01-08  0.62  0.67  0.60   0.65       0.57  193505200\n",
            "...          ...   ...   ...    ...        ...        ...\n",
            "1998-09-28  1.42  1.44  1.36   1.40       1.22  101354400\n",
            "1998-09-29  1.40  1.43  1.36   1.41       1.23   76283200\n",
            "1998-09-30  1.38  1.40  1.36   1.36       1.19   41795600\n",
            "1998-10-01  1.31  1.36  1.26   1.27       1.11   92554000\n",
            "1998-10-02  1.27  1.29  1.22   1.25       1.09  118893600\n",
            "\n",
            "[190 rows x 6 columns]\n"
          ],
          "name": "stdout"
        }
      ]
    }
  ]
}