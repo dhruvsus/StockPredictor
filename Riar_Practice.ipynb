{
  "nbformat": 4,
  "nbformat_minor": 0,
  "metadata": {
    "colab": {
      "name": "Riar_Practice.ipynb",
      "provenance": [],
      "collapsed_sections": [],
      "include_colab_link": true
    },
    "kernelspec": {
      "name": "python3",
      "display_name": "Python 3"
    }
  },
  "cells": [
    {
      "cell_type": "markdown",
      "metadata": {
        "id": "view-in-github",
        "colab_type": "text"
      },
      "source": [
        "<a href=\"https://colab.research.google.com/github/dhruvsus/StockPredictor/blob/master/Riar_Practice.ipynb\" target=\"_parent\"><img src=\"https://colab.research.google.com/assets/colab-badge.svg\" alt=\"Open In Colab\"/></a>"
      ]
    },
    {
      "cell_type": "code",
      "metadata": {
        "id": "yweC2SEL10o7",
        "colab_type": "code",
        "outputId": "ff1ddf8d-fac5-4ea1-83d7-de18c70cf989",
        "colab": {
          "base_uri": "https://localhost:8080/",
          "height": 357
        }
      },
      "source": [
        "pip install yfinance"
      ],
      "execution_count": 2,
      "outputs": [
        {
          "output_type": "stream",
          "text": [
            "Collecting yfinance\n",
            "  Downloading https://files.pythonhosted.org/packages/53/0e/40387099824c98be22cd7e33a620e9d38b61998b031f0b33f0b9959717d2/yfinance-0.1.45.tar.gz\n",
            "Requirement already satisfied: pandas>=0.24 in /usr/local/lib/python3.6/dist-packages (from yfinance) (0.24.2)\n",
            "Requirement already satisfied: numpy>=1.15 in /usr/local/lib/python3.6/dist-packages (from yfinance) (1.16.5)\n",
            "Requirement already satisfied: requests>=2.20 in /usr/local/lib/python3.6/dist-packages (from yfinance) (2.21.0)\n",
            "Requirement already satisfied: multitasking>=0.0.7 in /usr/local/lib/python3.6/dist-packages (from yfinance) (0.0.9)\n",
            "Requirement already satisfied: python-dateutil>=2.5.0 in /usr/local/lib/python3.6/dist-packages (from pandas>=0.24->yfinance) (2.5.3)\n",
            "Requirement already satisfied: pytz>=2011k in /usr/local/lib/python3.6/dist-packages (from pandas>=0.24->yfinance) (2018.9)\n",
            "Requirement already satisfied: certifi>=2017.4.17 in /usr/local/lib/python3.6/dist-packages (from requests>=2.20->yfinance) (2019.9.11)\n",
            "Requirement already satisfied: chardet<3.1.0,>=3.0.2 in /usr/local/lib/python3.6/dist-packages (from requests>=2.20->yfinance) (3.0.4)\n",
            "Requirement already satisfied: urllib3<1.25,>=1.21.1 in /usr/local/lib/python3.6/dist-packages (from requests>=2.20->yfinance) (1.24.3)\n",
            "Requirement already satisfied: idna<2.9,>=2.5 in /usr/local/lib/python3.6/dist-packages (from requests>=2.20->yfinance) (2.8)\n",
            "Requirement already satisfied: six>=1.5 in /usr/local/lib/python3.6/dist-packages (from python-dateutil>=2.5.0->pandas>=0.24->yfinance) (1.12.0)\n",
            "Building wheels for collected packages: yfinance\n",
            "  Building wheel for yfinance (setup.py) ... \u001b[?25l\u001b[?25hdone\n",
            "  Created wheel for yfinance: filename=yfinance-0.1.45-cp36-none-any.whl size=14652 sha256=062d626ad17c82730f126c83a1dde884761eeac66dbc2eaa6d8e3f7b842763b4\n",
            "  Stored in directory: /root/.cache/pip/wheels/0c/d1/df/aa9a7744a4ac353cc9a1f2c3aaea7c1f457fc49de4286f2d88\n",
            "Successfully built yfinance\n",
            "Installing collected packages: yfinance\n",
            "Successfully installed yfinance-0.1.45\n"
          ],
          "name": "stdout"
        }
      ]
    },
    {
      "cell_type": "code",
      "metadata": {
        "id": "xj5ziloq1je1",
        "colab_type": "code",
        "outputId": "e8c379e5-6219-435d-a9e5-7935453aa818",
        "colab": {
          "base_uri": "https://localhost:8080/",
          "height": 34
        }
      },
      "source": [
        "%tensorflow_version 2.x\n",
        "import tensorflow as tf\n",
        "import yfinance as yf\n",
        "import matplotlib.pyplot as plt\n",
        "import pandas as pd\n",
        "import csv"
      ],
      "execution_count": 3,
      "outputs": [
        {
          "output_type": "stream",
          "text": [
            "TensorFlow 2.x selected.\n"
          ],
          "name": "stdout"
        }
      ]
    },
    {
      "cell_type": "code",
      "metadata": {
        "id": "EvuCAe_C6-zk",
        "colab_type": "code",
        "colab": {}
      },
      "source": [
        "#Test Push"
      ],
      "execution_count": 0,
      "outputs": []
    },
    {
      "cell_type": "code",
      "metadata": {
        "id": "3IHZDlbI2sye",
        "colab_type": "code",
        "outputId": "5f835425-28b2-4abb-f75f-c1da166b4c61",
        "colab": {
          "base_uri": "https://localhost:8080/",
          "height": 1000
        }
      },
      "source": [
        "data = yf.download('AAPL', '1998-01-01', '2000-10-05')\n",
        "#data.plot()\n",
        "#print(data)\n",
        "#plt.show()\n",
        "data2 = pd.DataFrame(data)\n",
        "print(data2)"
      ],
      "execution_count": 4,
      "outputs": [
        {
          "output_type": "stream",
          "text": [
            "\r[*********************100%***********************]  1 of 1 downloaded\n",
            "            Open  High   Low  Close  Adj Close      Volume\n",
            "Date                                                      \n",
            "1998-01-02  0.49  0.58  0.48   0.58       0.51   179527600\n",
            "1998-01-05  0.59  0.59  0.54   0.57       0.49   162968400\n",
            "1998-01-06  0.57  0.71  0.53   0.68       0.59   453118400\n",
            "1998-01-07  0.67  0.68  0.62   0.62       0.55   260405600\n",
            "1998-01-08  0.62  0.67  0.60   0.65       0.57   193505200\n",
            "1998-01-09  0.65  0.69  0.62   0.65       0.57   221636800\n",
            "1998-01-12  0.62  0.67  0.61   0.65       0.57   129099600\n",
            "1998-01-13  0.67  0.70  0.66   0.70       0.61   159213600\n",
            "1998-01-14  0.71  0.71  0.69   0.71       0.62   147316400\n",
            "1998-01-15  0.69  0.71  0.67   0.69       0.60   139818000\n",
            "1998-01-16  0.69  0.69  0.67   0.67       0.59    61588800\n",
            "1998-01-20  0.68  0.69  0.67   0.68       0.59    60390400\n",
            "1998-01-21  0.67  0.68  0.66   0.68       0.59    47552400\n",
            "1998-01-22  0.67  0.71  0.67   0.69       0.60    82432000\n",
            "1998-01-23  0.69  0.70  0.69   0.70       0.61    58290400\n",
            "1998-01-26  0.69  0.70  0.67   0.69       0.61    36610000\n",
            "1998-01-27  0.69  0.70  0.68   0.68       0.60    28058800\n",
            "1998-01-28  0.69  0.69  0.67   0.69       0.60    37780400\n",
            "1998-01-29  0.68  0.68  0.66   0.66       0.58    52970400\n",
            "1998-01-30  0.65  0.67  0.65   0.65       0.57    40611200\n",
            "1998-02-02  0.66  0.66  0.62   0.63       0.55   159185600\n",
            "1998-02-03  0.63  0.67  0.63   0.65       0.57   100654400\n",
            "1998-02-04  0.65  0.66  0.64   0.65       0.57    42548800\n",
            "1998-02-05  0.65  0.66  0.64   0.65       0.57    59567200\n",
            "1998-02-06  0.66  0.67  0.65   0.66       0.58    50584800\n",
            "1998-02-09  0.66  0.70  0.66   0.69       0.60   123667600\n",
            "1998-02-10  0.68  0.70  0.68   0.69       0.61   105504000\n",
            "1998-02-11  0.70  0.70  0.67   0.68       0.59    52917200\n",
            "1998-02-12  0.68  0.69  0.68   0.69       0.60    50937600\n",
            "1998-02-13  0.69  0.71  0.68   0.70       0.61    51998800\n",
            "...          ...   ...   ...    ...        ...         ...\n",
            "2000-08-23  3.68  3.91  3.65   3.88       3.39    59215800\n",
            "2000-08-24  3.91  4.04  3.81   4.01       3.50    77691600\n",
            "2000-08-25  4.04  4.11  4.03   4.06       3.54    83615000\n",
            "2000-08-28  4.09  4.21  4.08   4.15       3.62    89751200\n",
            "2000-08-29  4.13  4.25  4.12   4.23       3.69    66757600\n",
            "2000-08-30  4.21  4.29  4.19   4.25       3.71    71348200\n",
            "2000-08-31  4.21  4.39  4.21   4.35       3.80   104899200\n",
            "2000-09-01  4.38  4.54  4.37   4.53       3.95    64218000\n",
            "2000-09-05  4.48  4.58  4.45   4.46       3.89    74660600\n",
            "2000-09-06  4.38  4.46  4.12   4.17       3.64    88851000\n",
            "2000-09-07  4.22  4.47  4.16   4.43       3.86    54366200\n",
            "2000-09-08  4.40  4.40  4.18   4.21       3.67    48879600\n",
            "2000-09-11  4.19  4.31  4.15   4.17       3.64    46845400\n",
            "2000-09-12  4.10  4.29  4.07   4.12       3.60    46999400\n",
            "2000-09-13  4.05  4.25  4.05   4.14       3.62    76496000\n",
            "2000-09-14  4.18  4.26  4.06   4.06       3.54   106638000\n",
            "2000-09-15  4.12  4.16  3.88   3.95       3.44    98628600\n",
            "2000-09-18  3.95  4.34  3.93   4.33       3.78   106134000\n",
            "2000-09-19  4.27  4.32  4.18   4.28       3.74    67877600\n",
            "2000-09-20  4.24  4.39  4.18   4.36       3.81    56847000\n",
            "2000-09-21  4.18  4.26  3.95   4.05       3.53   127622600\n",
            "2000-09-22  3.59  3.75  3.57   3.73       3.25   181675200\n",
            "2000-09-25  3.77  3.96  3.72   3.82       3.34   108887800\n",
            "2000-09-26  3.81  3.91  3.67   3.67       3.21    72734200\n",
            "2000-09-27  3.70  3.77  3.45   3.50       3.05   100564800\n",
            "2000-09-28  3.52  3.84  3.44   3.82       3.34   244896400\n",
            "2000-09-29  2.01  2.07  1.81   1.84       1.61  1855410200\n",
            "2000-10-02  1.91  1.91  1.68   1.73       1.51   606197200\n",
            "2000-10-03  1.78  1.79  1.58   1.59       1.39   509530000\n",
            "2000-10-04  1.60  1.70  1.56   1.69       1.47   366506000\n",
            "\n",
            "[696 rows x 6 columns]\n"
          ],
          "name": "stdout"
        }
      ]
    }
  ]
}