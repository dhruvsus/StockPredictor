{
  "nbformat": 4,
  "nbformat_minor": 0,
  "metadata": {
    "colab": {
      "name": "Riar_Practice.ipynb",
      "provenance": [],
      "include_colab_link": true
    },
    "kernelspec": {
      "name": "python3",
      "display_name": "Python 3"
    }
  },
  "cells": [
    {
      "cell_type": "markdown",
      "metadata": {
        "id": "view-in-github",
        "colab_type": "text"
      },
      "source": [
        "<a href=\"https://colab.research.google.com/github/dhruvsus/StockPredictor/blob/master/Riar_Practice.ipynb\" target=\"_parent\"><img src=\"https://colab.research.google.com/assets/colab-badge.svg\" alt=\"Open In Colab\"/></a>"
      ]
    },
    {
      "cell_type": "code",
      "metadata": {
        "id": "yweC2SEL10o7",
        "colab_type": "code",
        "outputId": "9f2028d5-8c1e-42b6-bbf2-d21ad0f31f64",
        "colab": {
          "base_uri": "https://localhost:8080/",
          "height": 357
        }
      },
      "source": [
        "pip install yfinance"
      ],
      "execution_count": 1,
      "outputs": [
        {
          "output_type": "stream",
          "text": [
            "Collecting yfinance\n",
            "  Downloading https://files.pythonhosted.org/packages/53/0e/40387099824c98be22cd7e33a620e9d38b61998b031f0b33f0b9959717d2/yfinance-0.1.45.tar.gz\n",
            "Requirement already satisfied: pandas>=0.24 in /usr/local/lib/python3.6/dist-packages (from yfinance) (0.24.2)\n",
            "Requirement already satisfied: numpy>=1.15 in /usr/local/lib/python3.6/dist-packages (from yfinance) (1.16.5)\n",
            "Requirement already satisfied: requests>=2.20 in /usr/local/lib/python3.6/dist-packages (from yfinance) (2.21.0)\n",
            "Requirement already satisfied: multitasking>=0.0.7 in /usr/local/lib/python3.6/dist-packages (from yfinance) (0.0.9)\n",
            "Requirement already satisfied: pytz>=2011k in /usr/local/lib/python3.6/dist-packages (from pandas>=0.24->yfinance) (2018.9)\n",
            "Requirement already satisfied: python-dateutil>=2.5.0 in /usr/local/lib/python3.6/dist-packages (from pandas>=0.24->yfinance) (2.5.3)\n",
            "Requirement already satisfied: urllib3<1.25,>=1.21.1 in /usr/local/lib/python3.6/dist-packages (from requests>=2.20->yfinance) (1.24.3)\n",
            "Requirement already satisfied: certifi>=2017.4.17 in /usr/local/lib/python3.6/dist-packages (from requests>=2.20->yfinance) (2019.9.11)\n",
            "Requirement already satisfied: idna<2.9,>=2.5 in /usr/local/lib/python3.6/dist-packages (from requests>=2.20->yfinance) (2.8)\n",
            "Requirement already satisfied: chardet<3.1.0,>=3.0.2 in /usr/local/lib/python3.6/dist-packages (from requests>=2.20->yfinance) (3.0.4)\n",
            "Requirement already satisfied: six>=1.5 in /usr/local/lib/python3.6/dist-packages (from python-dateutil>=2.5.0->pandas>=0.24->yfinance) (1.12.0)\n",
            "Building wheels for collected packages: yfinance\n",
            "  Building wheel for yfinance (setup.py) ... \u001b[?25l\u001b[?25hdone\n",
            "  Created wheel for yfinance: filename=yfinance-0.1.45-cp36-none-any.whl size=14652 sha256=8daf7187b2b72cb4ceae844e7b652ef00aab3681d692bacec71ecca4e7a87aaf\n",
            "  Stored in directory: /root/.cache/pip/wheels/0c/d1/df/aa9a7744a4ac353cc9a1f2c3aaea7c1f457fc49de4286f2d88\n",
            "Successfully built yfinance\n",
            "Installing collected packages: yfinance\n",
            "Successfully installed yfinance-0.1.45\n"
          ],
          "name": "stdout"
        }
      ]
    },
    {
      "cell_type": "code",
      "metadata": {
        "id": "xj5ziloq1je1",
        "colab_type": "code",
        "colab": {
          "base_uri": "https://localhost:8080/",
          "height": 34
        },
        "outputId": "84eb4cdc-b62b-4365-db13-1232e835036f"
      },
      "source": [
        "%tensorflow_version 2.x\n",
        "import tensorflow as tf\n",
        "import yfinance as yf\n",
        "import matplotlib.pyplot as plt\n",
        "import pandas as pd\n",
        "import csv"
      ],
      "execution_count": 2,
      "outputs": [
        {
          "output_type": "stream",
          "text": [
            "TensorFlow 2.x selected.\n"
          ],
          "name": "stdout"
        }
      ]
    },
    {
      "cell_type": "code",
      "metadata": {
        "id": "EvuCAe_C6-zk",
        "colab_type": "code",
        "colab": {}
      },
      "source": [
        ""
      ],
      "execution_count": 0,
      "outputs": []
    },
    {
      "cell_type": "code",
      "metadata": {
        "id": "3IHZDlbI2sye",
        "colab_type": "code",
        "outputId": "3025afde-97fd-4d1f-e173-85b4f1ad7ce6",
        "colab": {
          "base_uri": "https://localhost:8080/",
          "height": 1000
        }
      },
      "source": [
        "data = yf.download('AAPL', '1998-01-01', '1998-10-05')\n",
        "#data.plot()\n",
        "#print(data)\n",
        "#plt.show()\n",
        "data2 = pd.DataFrame(data)\n",
        "print(data2)"
      ],
      "execution_count": 8,
      "outputs": [
        {
          "output_type": "stream",
          "text": [
            "\r[*********************100%***********************]  1 of 1 downloaded\n",
            "            Open  High   Low  Close  Adj Close     Volume\n",
            "Date                                                     \n",
            "1998-01-02  0.49  0.58  0.48   0.58       0.51  179527600\n",
            "1998-01-05  0.59  0.59  0.54   0.57       0.49  162968400\n",
            "1998-01-06  0.57  0.71  0.53   0.68       0.59  453118400\n",
            "1998-01-07  0.67  0.68  0.62   0.62       0.55  260405600\n",
            "1998-01-08  0.62  0.67  0.60   0.65       0.57  193505200\n",
            "1998-01-09  0.65  0.69  0.62   0.65       0.57  221636800\n",
            "1998-01-12  0.62  0.67  0.61   0.65       0.57  129099600\n",
            "1998-01-13  0.67  0.70  0.66   0.70       0.61  159213600\n",
            "1998-01-14  0.71  0.71  0.69   0.71       0.62  147316400\n",
            "1998-01-15  0.69  0.71  0.67   0.69       0.60  139818000\n",
            "1998-01-16  0.69  0.69  0.67   0.67       0.59   61588800\n",
            "1998-01-20  0.68  0.69  0.67   0.68       0.59   60390400\n",
            "1998-01-21  0.67  0.68  0.66   0.68       0.59   47552400\n",
            "1998-01-22  0.67  0.71  0.67   0.69       0.60   82432000\n",
            "1998-01-23  0.69  0.70  0.69   0.70       0.61   58290400\n",
            "1998-01-26  0.69  0.70  0.67   0.69       0.61   36610000\n",
            "1998-01-27  0.69  0.70  0.68   0.68       0.60   28058800\n",
            "1998-01-28  0.69  0.69  0.67   0.69       0.60   37780400\n",
            "1998-01-29  0.68  0.68  0.66   0.66       0.58   52970400\n",
            "1998-01-30  0.65  0.67  0.65   0.65       0.57   40611200\n",
            "1998-02-02  0.66  0.66  0.62   0.63       0.55  159185600\n",
            "1998-02-03  0.63  0.67  0.63   0.65       0.57  100654400\n",
            "1998-02-04  0.65  0.66  0.64   0.65       0.57   42548800\n",
            "1998-02-05  0.65  0.66  0.64   0.65       0.57   59567200\n",
            "1998-02-06  0.66  0.67  0.65   0.66       0.58   50584800\n",
            "1998-02-09  0.66  0.70  0.66   0.69       0.60  123667600\n",
            "1998-02-10  0.68  0.70  0.68   0.69       0.61  105504000\n",
            "1998-02-11  0.70  0.70  0.67   0.68       0.59   52917200\n",
            "1998-02-12  0.68  0.69  0.68   0.69       0.60   50937600\n",
            "1998-02-13  0.69  0.71  0.68   0.70       0.61   51998800\n",
            "...          ...   ...   ...    ...        ...        ...\n",
            "1998-08-21  1.43  1.56  1.39   1.54       1.34  203344400\n",
            "1998-08-24  1.55  1.55  1.43   1.47       1.28  152544000\n",
            "1998-08-25  1.51  1.51  1.44   1.46       1.27  123891600\n",
            "1998-08-26  1.42  1.47  1.41   1.44       1.26  101620400\n",
            "1998-08-27  1.40  1.40  1.27   1.34       1.17  278560800\n",
            "1998-08-28  1.33  1.38  1.22   1.22       1.07  233063600\n",
            "1998-08-31  1.24  1.25  1.11   1.11       0.97  217056000\n",
            "1998-09-01  1.12  1.26  1.09   1.22       1.06  217268800\n",
            "1998-09-02  1.27  1.33  1.26   1.27       1.11  210750400\n",
            "1998-09-03  1.25  1.25  1.21   1.24       1.08  102438000\n",
            "1998-09-04  1.27  1.30  1.21   1.25       1.09   94318000\n",
            "1998-09-08  1.36  1.37  1.31   1.37       1.19  100699200\n",
            "1998-09-09  1.36  1.36  1.32   1.33       1.16   88673200\n",
            "1998-09-10  1.29  1.37  1.28   1.36       1.19  131720400\n",
            "1998-09-11  1.38  1.42  1.32   1.34       1.17   88071200\n",
            "1998-09-14  1.37  1.39  1.33   1.33       1.16   61768000\n",
            "1998-09-15  1.31  1.38  1.30   1.36       1.19  108413200\n",
            "1998-09-16  1.38  1.38  1.32   1.33       1.16   64719200\n",
            "1998-09-17  1.29  1.33  1.28   1.29       1.12   67323200\n",
            "1998-09-18  1.29  1.31  1.27   1.31       1.15   76269200\n",
            "1998-09-21  1.27  1.32  1.26   1.32       1.15   73967600\n",
            "1998-09-22  1.33  1.34  1.30   1.32       1.15   64484000\n",
            "1998-09-23  1.33  1.37  1.31   1.37       1.19   71979600\n",
            "1998-09-24  1.35  1.41  1.35   1.38       1.20  120710800\n",
            "1998-09-25  1.36  1.40  1.34   1.38       1.21   57072400\n",
            "1998-09-28  1.42  1.44  1.36   1.40       1.22  101354400\n",
            "1998-09-29  1.40  1.43  1.36   1.41       1.23   76283200\n",
            "1998-09-30  1.38  1.40  1.36   1.36       1.19   41795600\n",
            "1998-10-01  1.31  1.36  1.26   1.27       1.11   92554000\n",
            "1998-10-02  1.27  1.29  1.22   1.25       1.09  118893600\n",
            "\n",
            "[190 rows x 6 columns]\n"
          ],
          "name": "stdout"
        }
      ]
    }
  ]
}